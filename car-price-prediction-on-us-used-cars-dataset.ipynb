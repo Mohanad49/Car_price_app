{
 "cells": [
  {
   "cell_type": "markdown",
   "id": "40ac786d",
   "metadata": {
    "papermill": {
     "duration": 0.00642,
     "end_time": "2025-04-11T19:10:19.498898",
     "exception": false,
     "start_time": "2025-04-11T19:10:19.492478",
     "status": "completed"
    },
    "tags": []
   },
   "source": [
    "# Import Necessary Libraries"
   ]
  },
  {
   "cell_type": "code",
   "execution_count": 1,
   "id": "845d01a7",
   "metadata": {
    "_cell_guid": "b1076dfc-b9ad-4769-8c92-a6c4dae69d19",
    "_uuid": "8f2839f25d086af736a60e9eeb907d3b93b6e0e5",
    "execution": {
     "iopub.execute_input": "2025-04-11T19:10:19.509870Z",
     "iopub.status.busy": "2025-04-11T19:10:19.509565Z",
     "iopub.status.idle": "2025-04-11T19:10:40.158796Z",
     "shell.execute_reply": "2025-04-11T19:10:40.158091Z"
    },
    "papermill": {
     "duration": 20.656412,
     "end_time": "2025-04-11T19:10:40.160364",
     "exception": false,
     "start_time": "2025-04-11T19:10:19.503952",
     "status": "completed"
    },
    "tags": []
   },
   "outputs": [],
   "source": [
    "import numpy as np\n",
    "import pandas as pd\n",
    "import matplotlib.pyplot as plt\n",
    "import seaborn as sns\n",
    "import re # Regular expressions for cleaning\n",
    "import time\n",
    "\n",
    "from sklearn.model_selection import train_test_split \n",
    "from sklearn.ensemble import RandomForestRegressor\n",
    "from sklearn.tree import DecisionTreeRegressor\n",
    "from sklearn.preprocessing import LabelEncoder, OrdinalEncoder, OneHotEncoder, StandardScaler\n",
    "from sklearn.impute import SimpleImputer\n",
    "from sklearn.compose import ColumnTransformer\n",
    "from sklearn.pipeline import Pipeline\n",
    "from sklearn.metrics import r2_score, mean_absolute_error, mean_squared_error\n",
    "import tensorflow as tf\n",
    "from tensorflow import keras\n",
    "from tensorflow.keras import layers\n",
    "from tensorflow.keras.callbacks import EarlyStopping\n",
    "import xgboost as xgb\n",
    "import lightgbm as lgb"
   ]
  },
  {
   "cell_type": "markdown",
   "id": "42642156",
   "metadata": {
    "papermill": {
     "duration": 0.004755,
     "end_time": "2025-04-11T19:10:40.170382",
     "exception": false,
     "start_time": "2025-04-11T19:10:40.165627",
     "status": "completed"
    },
    "tags": []
   },
   "source": [
    "# Configuration"
   ]
  },
  {
   "cell_type": "code",
   "execution_count": 2,
   "id": "4cf83399",
   "metadata": {
    "execution": {
     "iopub.execute_input": "2025-04-11T19:10:40.181151Z",
     "iopub.status.busy": "2025-04-11T19:10:40.180499Z",
     "iopub.status.idle": "2025-04-11T19:10:40.183976Z",
     "shell.execute_reply": "2025-04-11T19:10:40.183339Z"
    },
    "papermill": {
     "duration": 0.010131,
     "end_time": "2025-04-11T19:10:40.185211",
     "exception": false,
     "start_time": "2025-04-11T19:10:40.175080",
     "status": "completed"
    },
    "tags": []
   },
   "outputs": [],
   "source": [
    "RANDOM_STATE = 42 # for reproducibility\n",
    "N_TOP_FEATURES = 25 # Number of top features to display\n",
    "TEST_SIZE = 0.2 # Hold out 20% of the sampled data for testing"
   ]
  },
  {
   "cell_type": "markdown",
   "id": "f4dd3063",
   "metadata": {
    "papermill": {
     "duration": 0.004682,
     "end_time": "2025-04-11T19:10:40.194630",
     "exception": false,
     "start_time": "2025-04-11T19:10:40.189948",
     "status": "completed"
    },
    "tags": []
   },
   "source": [
    "# 1. Load Data"
   ]
  },
  {
   "cell_type": "code",
   "execution_count": 3,
   "id": "702f9095",
   "metadata": {
    "execution": {
     "iopub.execute_input": "2025-04-11T19:10:40.205506Z",
     "iopub.status.busy": "2025-04-11T19:10:40.205248Z",
     "iopub.status.idle": "2025-04-11T19:14:39.281854Z",
     "shell.execute_reply": "2025-04-11T19:14:39.280842Z"
    },
    "papermill": {
     "duration": 239.083925,
     "end_time": "2025-04-11T19:14:39.283688",
     "exception": false,
     "start_time": "2025-04-11T19:10:40.199763",
     "status": "completed"
    },
    "tags": []
   },
   "outputs": [
    {
     "name": "stdout",
     "output_type": "stream",
     "text": [
      "Loading FULL dataset...\n",
      "Full data loaded successfully. Shape: (3000040, 66)\n",
      "Optimizing data types...\n",
      "Memory usage after optimization: 15798.26 MB\n"
     ]
    }
   ],
   "source": [
    "print(f\"Loading FULL dataset...\")\n",
    "file_path = '/kaggle/input/us-used-cars-dataset/used_cars_data.csv'\n",
    "\n",
    "# Load header to get column names\n",
    "try:\n",
    "    df_raw = pd.read_csv(file_path, low_memory=False)\n",
    "    print(f\"Full data loaded successfully. Shape: {df_raw.shape}\")\n",
    "\n",
    "    print(\"Optimizing data types...\")\n",
    "    # Downcast floats\n",
    "    float_cols = df_raw.select_dtypes(include=['float64']).columns\n",
    "    for col in float_cols:\n",
    "        df_raw[col] = pd.to_numeric(df_raw[col], downcast='float')\n",
    "\n",
    "    # Downcast integers where possible\n",
    "    int_cols = df_raw.select_dtypes(include=['int64']).columns\n",
    "    for col in int_cols:\n",
    "        df_raw[col] = pd.to_numeric(df_raw[col], downcast='integer') # Or 'unsigned' if applicable\n",
    "\n",
    "\n",
    "    print(f\"Memory usage after optimization: {df_raw.memory_usage(deep=True).sum() / 1024**2:.2f} MB\")\n",
    "\n",
    "except Exception as e:\n",
    "    print(f\"Error loading or optimizing data: {e}\")\n",
    "    raise SystemExit(\"Data loading/optimization failed.\")\n",
    "\n",
    "# Create a working copy\n",
    "df = df_raw.copy()"
   ]
  },
  {
   "cell_type": "markdown",
   "id": "203c45fa",
   "metadata": {
    "papermill": {
     "duration": 0.004999,
     "end_time": "2025-04-11T19:14:39.294075",
     "exception": false,
     "start_time": "2025-04-11T19:14:39.289076",
     "status": "completed"
    },
    "tags": []
   },
   "source": [
    "# 2. Initial Cleaning and Feature Selection "
   ]
  },
  {
   "cell_type": "code",
   "execution_count": 4,
   "id": "b0666e55",
   "metadata": {
    "execution": {
     "iopub.execute_input": "2025-04-11T19:14:39.305072Z",
     "iopub.status.busy": "2025-04-11T19:14:39.304802Z",
     "iopub.status.idle": "2025-04-11T19:14:40.355261Z",
     "shell.execute_reply": "2025-04-11T19:14:40.354201Z"
    },
    "papermill": {
     "duration": 1.057766,
     "end_time": "2025-04-11T19:14:40.356778",
     "exception": false,
     "start_time": "2025-04-11T19:14:39.299012",
     "status": "completed"
    },
    "tags": []
   },
   "outputs": [
    {
     "name": "stdout",
     "output_type": "stream",
     "text": [
      "\n",
      "--- Initial Cleaning and Feature Selection ---\n",
      "Dropped 27 columns.\n",
      "Shape after dropping columns: (3000040, 39)\n",
      "Remaining columns: ['back_legroom', 'body_type', 'city_fuel_economy', 'daysonmarket', 'engine_cylinders', 'engine_displacement', 'engine_type', 'exterior_color', 'fleet', 'frame_damaged', 'franchise_dealer', 'front_legroom', 'fuel_tank_volume', 'fuel_type', 'has_accidents', 'height', 'highway_fuel_economy', 'horsepower', 'interior_color', 'isCab', 'is_new', 'length', 'listing_color', 'make_name', 'maximum_seating', 'mileage', 'model_name', 'owner_count', 'price', 'salvage', 'savings_amount', 'seller_rating', 'theft_title', 'transmission', 'trim_name', 'wheel_system', 'wheelbase', 'width', 'year']\n"
     ]
    }
   ],
   "source": [
    "print(\"\\n--- Initial Cleaning and Feature Selection ---\")\n",
    "\n",
    "# Drop columns identified with >2M NaNs in the full dataset (based on the EDA)\n",
    "high_nan_cols = [\n",
    "    'bed', 'bed_height', 'bed_length', 'cabin', 'combine_fuel_economy',\n",
    "    'is_certified', 'is_cpo', 'is_oemcpo', 'vehicle_damage_category'\n",
    "]\n",
    "# Drop other columns unlikely to be useful or too problematic\n",
    "other_cols_to_drop = [\n",
    "    'vin', 'listing_id', 'trimId', 'sp_id', # Identifiers\n",
    "    'description', # Free text\n",
    "    'main_picture_url', # URL\n",
    "    'dealer_zip', # High cardinality, city/lat/long might be better proxies if kept\n",
    "    'city', # High cardinality\n",
    "    'latitude', 'longitude', # Location (can add complexity)\n",
    "    'listed_date', # Use daysonmarket instead\n",
    "    'sp_name', # High cardinality dealer name\n",
    "    'franchise_make', # make_name is likely sufficient\n",
    "    'transmission_display', # Redundant with transmission\n",
    "    'wheel_system_display', # Redundant with wheel_system\n",
    "    'power', # Requires complex parsing (e.g., '200 hp @ 5000 rpm') - horsepower is direct\n",
    "    'torque', # Requires complex parsing\n",
    "    'major_options', # Requires complex parsing/NLP\n",
    "]\n",
    "\n",
    "columns_to_drop = high_nan_cols + other_cols_to_drop\n",
    "# Ensure columns exist in the dataframe before dropping\n",
    "columns_to_drop = [col for col in columns_to_drop if col in df.columns]\n",
    "\n",
    "df.drop(columns=columns_to_drop, inplace=True)\n",
    "print(f\"Dropped {len(columns_to_drop)} columns.\")\n",
    "print(f\"Shape after dropping columns: {df.shape}\")\n",
    "print(\"Remaining columns:\", df.columns.tolist())"
   ]
  },
  {
   "cell_type": "markdown",
   "id": "10a0a4bb",
   "metadata": {
    "papermill": {
     "duration": 0.00498,
     "end_time": "2025-04-11T19:14:40.367270",
     "exception": false,
     "start_time": "2025-04-11T19:14:40.362290",
     "status": "completed"
    },
    "tags": []
   },
   "source": [
    "# 3. Target Variable Cleaning (Price)"
   ]
  },
  {
   "cell_type": "code",
   "execution_count": 5,
   "id": "59d05533",
   "metadata": {
    "execution": {
     "iopub.execute_input": "2025-04-11T19:14:40.378185Z",
     "iopub.status.busy": "2025-04-11T19:14:40.377949Z",
     "iopub.status.idle": "2025-04-11T19:14:42.132874Z",
     "shell.execute_reply": "2025-04-11T19:14:42.131618Z"
    },
    "papermill": {
     "duration": 1.762201,
     "end_time": "2025-04-11T19:14:42.134292",
     "exception": false,
     "start_time": "2025-04-11T19:14:40.372091",
     "status": "completed"
    },
    "tags": []
   },
   "outputs": [
    {
     "name": "stdout",
     "output_type": "stream",
     "text": [
      "\n",
      "--- Cleaning Target Variable (Price) ---\n",
      "Price stats before cleaning:\n",
      "count    3.000040e+06\n",
      "mean     2.993337e+04\n",
      "std      1.956617e+04\n",
      "min      1.650000e+02\n",
      "25%      1.845100e+04\n",
      "50%      2.647700e+04\n",
      "75%      3.822000e+04\n",
      "max      3.299995e+06\n",
      "Name: price, dtype: float64\n",
      "Removing prices below $500 and above $102995.00 (99.5th percentile)\n",
      "Shape after price cleaning: (2984957, 39)\n",
      "Price stats after cleaning:\n",
      "count    2.984957e+06\n",
      "mean     2.929104e+04\n",
      "std      1.554869e+04\n",
      "min      5.000000e+02\n",
      "25%      1.839000e+04\n",
      "50%      2.636600e+04\n",
      "75%      3.799500e+04\n",
      "max      1.029950e+05\n",
      "Name: price, dtype: float64\n"
     ]
    }
   ],
   "source": [
    "print(\"\\n--- Cleaning Target Variable (Price) ---\")\n",
    "if 'price' not in df.columns:\n",
    "     raise ValueError(\"Target variable 'price' not found in the loaded columns.\")\n",
    "\n",
    "print(f\"Price stats before cleaning:\\n{df['price'].describe()}\")\n",
    "# Check for non-numeric prices (if loaded as object)\n",
    "df['price'] = pd.to_numeric(df['price'], errors='coerce')\n",
    "df.dropna(subset=['price'], inplace=True) # Remove rows where price became NaN\n",
    "df['price'] = df['price'].astype(float) # Ensure it's float\n",
    "\n",
    "# Define reasonable price bounds. Using percentiles is robust.\n",
    "price_upper_bound = df['price'].quantile(0.995) # Remove top 0.5%\n",
    "price_lower_bound = 500 # Remove listings below $500\n",
    "print(f\"Removing prices below ${price_lower_bound} and above ${price_upper_bound:.2f} (99.5th percentile)\")\n",
    "df = df[(df['price'] >= price_lower_bound) & (df['price'] <= price_upper_bound)]\n",
    "print(f\"Shape after price cleaning: {df.shape}\")\n",
    "print(f\"Price stats after cleaning:\\n{df['price'].describe()}\")\n"
   ]
  },
  {
   "cell_type": "markdown",
   "id": "452656ad",
   "metadata": {
    "papermill": {
     "duration": 0.005231,
     "end_time": "2025-04-11T19:14:42.145035",
     "exception": false,
     "start_time": "2025-04-11T19:14:42.139804",
     "status": "completed"
    },
    "tags": []
   },
   "source": [
    "# 4. Feature Engineering"
   ]
  },
  {
   "cell_type": "code",
   "execution_count": 6,
   "id": "709c2ff3",
   "metadata": {
    "execution": {
     "iopub.execute_input": "2025-04-11T19:14:42.156119Z",
     "iopub.status.busy": "2025-04-11T19:14:42.155885Z",
     "iopub.status.idle": "2025-04-11T19:14:43.817350Z",
     "shell.execute_reply": "2025-04-11T19:14:43.816326Z"
    },
    "papermill": {
     "duration": 1.668762,
     "end_time": "2025-04-11T19:14:43.818885",
     "exception": false,
     "start_time": "2025-04-11T19:14:42.150123",
     "status": "completed"
    },
    "tags": []
   },
   "outputs": [
    {
     "name": "stdout",
     "output_type": "stream",
     "text": [
      "\n",
      "--- Feature Engineering ---\n",
      "Created 'car_age' feature and dropped 'year'.\n",
      "Car age stats:\n",
      "count    2.984957e+06\n",
      "mean     7.271380e+00\n",
      "std      4.151634e+00\n",
      "min      4.000000e+00\n",
      "25%      5.000000e+00\n",
      "50%      5.000000e+00\n",
      "75%      8.000000e+00\n",
      "max      1.100000e+02\n",
      "Name: car_age, dtype: float64\n",
      "Shape after age filtering: (2984936, 39)\n"
     ]
    }
   ],
   "source": [
    "print(\"\\n--- Feature Engineering ---\")\n",
    "# Create 'car_age' from 'year'\n",
    "if 'year' in df.columns:\n",
    "    # Fill potential NaNs in 'year' before calculating age\n",
    "    median_year = df['year'].median()\n",
    "    df['year'] = df['year'].fillna(median_year)\n",
    "    df['year'] = df['year'].astype(int) # Ensure integer year\n",
    "\n",
    "    current_year = pd.Timestamp.now().year # Use current year dynamically\n",
    "    df['car_age'] = current_year - df['year']\n",
    "    df.drop(columns=['year'], inplace=True)\n",
    "    print(\"Created 'car_age' feature and dropped 'year'.\")\n",
    "    print(f\"Car age stats:\\n{df['car_age'].describe()}\")\n",
    "    # Remove nonsensical ages\n",
    "    df = df[(df['car_age'] >= 0) & (df['car_age'] <= 100)]\n",
    "    print(f\"Shape after age filtering: {df.shape}\")\n",
    "else:\n",
    "    print(\"Column 'year' not found, skipping 'car_age' creation.\")\n"
   ]
  },
  {
   "cell_type": "markdown",
   "id": "87d2138e",
   "metadata": {
    "papermill": {
     "duration": 0.005142,
     "end_time": "2025-04-11T19:14:43.829730",
     "exception": false,
     "start_time": "2025-04-11T19:14:43.824588",
     "status": "completed"
    },
    "tags": []
   },
   "source": [
    "# 5. Data Type Cleaning and Conversion"
   ]
  },
  {
   "cell_type": "code",
   "execution_count": 7,
   "id": "c0e53d22",
   "metadata": {
    "execution": {
     "iopub.execute_input": "2025-04-11T19:14:43.841292Z",
     "iopub.status.busy": "2025-04-11T19:14:43.841056Z",
     "iopub.status.idle": "2025-04-11T19:15:12.511154Z",
     "shell.execute_reply": "2025-04-11T19:15:12.510305Z"
    },
    "papermill": {
     "duration": 28.677326,
     "end_time": "2025-04-11T19:15:12.512456",
     "exception": false,
     "start_time": "2025-04-11T19:14:43.835130",
     "status": "completed"
    },
    "tags": []
   },
   "outputs": [
    {
     "name": "stdout",
     "output_type": "stream",
     "text": [
      "\n",
      "--- Data Type Cleaning and Conversion ---\n",
      "Cleaned 'back_legroom' (original dtype: object). Introduced/kept NaNs: 234428\n",
      "Cleaned 'front_legroom' (original dtype: object). Introduced/kept NaNs: 169025\n",
      "Cleaned 'fuel_tank_volume' (original dtype: object). Introduced/kept NaNs: 158510\n",
      "Cleaned 'height' (original dtype: object). Introduced/kept NaNs: 157618\n",
      "Cleaned 'length' (original dtype: object). Introduced/kept NaNs: 157607\n",
      "Cleaned 'maximum_seating' (original dtype: object). Introduced/kept NaNs: 157651\n",
      "Cleaned 'wheelbase' (original dtype: object). Introduced/kept NaNs: 157583\n",
      "Cleaned 'width' (original dtype: object). Introduced/kept NaNs: 157631\n",
      "Cleaned 'mileage' (original dtype: float64). Introduced/kept NaNs: 143597\n",
      "Cleaned 'horsepower' (original dtype: float32). Introduced/kept NaNs: 170246\n",
      "Cleaned 'engine_displacement' (original dtype: float32). Introduced/kept NaNs: 170246\n",
      "Cleaned 'owner_count' (original dtype: float32). Introduced/kept NaNs: 1506238\n",
      "Cleaned 'seller_rating' (original dtype: float32). Introduced/kept NaNs: 40763\n",
      "Cleaned 'city_fuel_economy' (original dtype: float32). Introduced/kept NaNs: 487312\n",
      "Cleaned 'highway_fuel_economy' (original dtype: float32). Introduced/kept NaNs: 487312\n",
      "Converted boolean-like column 'fleet' to numeric/NaN.\n",
      "Converted boolean-like column 'frame_damaged' to numeric/NaN.\n",
      "Converted boolean-like column 'franchise_dealer' to numeric/NaN.\n",
      "Converted boolean-like column 'has_accidents' to numeric/NaN.\n",
      "Converted boolean-like column 'isCab' to numeric/NaN.\n",
      "Converted boolean-like column 'is_new' to numeric/NaN.\n",
      "Converted boolean-like column 'salvage' to numeric/NaN.\n",
      "Converted boolean-like column 'theft_title' to numeric/NaN.\n",
      "Completed data type cleaning and conversion.\n"
     ]
    }
   ],
   "source": [
    "print(\"\\n--- Data Type Cleaning and Conversion ---\")\n",
    "\n",
    "# Function to clean string columns that should be numeric\n",
    "def clean_numeric_string(series):\n",
    "    if pd.api.types.is_numeric_dtype(series):\n",
    "        return series # Already numeric\n",
    "    # Extract first number found (int or float)\n",
    "    # Handles cases like \"18.5 inches\", \"4 Cyl\", \"1,200\", etc.\n",
    "    # Returns NaN if no number is found\n",
    "    cleaned = series.astype(str).str.extract(r'(\\d+\\.?\\d*)', expand=False)\n",
    "    return pd.to_numeric(cleaned, errors='coerce')\n",
    "\n",
    "# Columns that look numeric but might be strings with units/text\n",
    "potential_numeric_obj_cols = [\n",
    "    'back_legroom', 'front_legroom', 'fuel_tank_volume', 'height', 'length',\n",
    "    'maximum_seating', 'wheelbase', 'width', 'mileage', 'horsepower',\n",
    "    'engine_displacement', 'owner_count', 'seller_rating', 'city_fuel_economy',\n",
    "    'highway_fuel_economy' # Add others if needed\n",
    "]\n",
    "\n",
    "for col in potential_numeric_obj_cols:\n",
    "    if col in df.columns:\n",
    "        original_dtype = df[col].dtype\n",
    "        df[col] = clean_numeric_string(df[col])\n",
    "        if df[col].isnull().sum() > 0: # Check if NaNs were introduced\n",
    "             print(f\"Cleaned '{col}' (original dtype: {original_dtype}). Introduced/kept NaNs: {df[col].isnull().sum()}\")\n",
    "        else:\n",
    "             print(f\"Cleaned '{col}' (original dtype: {original_dtype}). No NaNs.\")\n",
    "\n",
    "# Convert boolean-like columns (handle object/bool types)\n",
    "bool_like_cols = [\n",
    "    'fleet', 'frame_damaged', 'franchise_dealer', 'has_accidents',\n",
    "    'isCab', 'is_new', 'salvage', 'theft_title'\n",
    "]\n",
    "\n",
    "for col in bool_like_cols:\n",
    "    if col in df.columns:\n",
    "        # Map various representations of True/False to 1/0\n",
    "        # Handle actual boolean type, string 'True'/'False', or other indicators if needed\n",
    "        if pd.api.types.is_bool_dtype(df[col]):\n",
    "            df[col] = df[col].astype(int)\n",
    "        else: # Assume object type\n",
    "             # Convert to lowercase string, handle potential NaNs\n",
    "            map_dict = {'true': 1, 'false': 0, True: 1, False: 0}\n",
    "            df[col] = df[col].fillna('Unknown').astype(str).str.lower().map(map_dict)\n",
    "            # Anything not mapped becomes NaN, will be imputed later\n",
    "        print(f\"Converted boolean-like column '{col}' to numeric/NaN.\")\n",
    "\n",
    "print(\"Completed data type cleaning and conversion.\")"
   ]
  },
  {
   "cell_type": "markdown",
   "id": "a824f331",
   "metadata": {
    "papermill": {
     "duration": 0.00566,
     "end_time": "2025-04-11T19:15:12.524735",
     "exception": false,
     "start_time": "2025-04-11T19:15:12.519075",
     "status": "completed"
    },
    "tags": []
   },
   "source": [
    "# 6. Prepare for Preprocessing (Train/Test Split)"
   ]
  },
  {
   "cell_type": "code",
   "execution_count": 8,
   "id": "d3bccc99",
   "metadata": {
    "execution": {
     "iopub.execute_input": "2025-04-11T19:15:12.537715Z",
     "iopub.status.busy": "2025-04-11T19:15:12.537481Z",
     "iopub.status.idle": "2025-04-11T19:15:18.448096Z",
     "shell.execute_reply": "2025-04-11T19:15:18.447038Z"
    },
    "papermill": {
     "duration": 5.918859,
     "end_time": "2025-04-11T19:15:18.449573",
     "exception": false,
     "start_time": "2025-04-11T19:15:12.530714",
     "status": "completed"
    },
    "tags": []
   },
   "outputs": [
    {
     "name": "stdout",
     "output_type": "stream",
     "text": [
      "\n",
      "--- Preparing for Preprocessing ---\n",
      "\n",
      "Identified 26 numerical columns:\n",
      "['back_legroom', 'city_fuel_economy', 'daysonmarket', 'engine_displacement', 'fleet', 'frame_damaged', 'franchise_dealer', 'front_legroom', 'fuel_tank_volume', 'has_accidents', 'height', 'highway_fuel_economy', 'horsepower', 'isCab', 'is_new', 'length', 'maximum_seating', 'mileage', 'owner_count', 'salvage', 'savings_amount', 'seller_rating', 'theft_title', 'wheelbase', 'width', 'car_age']\n",
      "\n",
      "Identified 12 categorical columns:\n",
      "['body_type', 'engine_cylinders', 'engine_type', 'exterior_color', 'fuel_type', 'interior_color', 'listing_color', 'make_name', 'model_name', 'transmission', 'trim_name', 'wheel_system']\n",
      "\n",
      "--- Checking Cardinality of Categorical Features ---\n",
      "Column 'body_type': 10 unique values\n",
      "Column 'engine_cylinders': 38 unique values\n",
      "Column 'engine_type': 38 unique values\n",
      "Column 'exterior_color': 27715 unique values\n",
      "  -> Dropping 'exterior_color' due to high cardinality.\n",
      "Column 'fuel_type': 9 unique values\n",
      "Column 'interior_color': 44427 unique values\n",
      "  -> Dropping 'interior_color' due to high cardinality.\n",
      "Column 'listing_color': 15 unique values\n",
      "Column 'make_name': 94 unique values\n",
      "  -> Dropping 'make_name' due to high cardinality.\n",
      "Column 'model_name': 1354 unique values\n",
      "  -> Dropping 'model_name' due to high cardinality.\n",
      "Column 'transmission': 5 unique values\n",
      "Column 'trim_name': 8866 unique values\n",
      "  -> Dropping 'trim_name' due to high cardinality.\n",
      "Column 'wheel_system': 6 unique values\n",
      "\n",
      "Dropped high cardinality columns: ['exterior_color', 'interior_color', 'make_name', 'model_name', 'trim_name']\n",
      "Remaining categorical columns for encoding: ['body_type', 'engine_cylinders', 'engine_type', 'fuel_type', 'listing_color', 'transmission', 'wheel_system']\n",
      "\n",
      "--- Splitting data into Train/Test (80%/20%) ---\n",
      "X_train shape: (2387948, 33), X_test shape: (596988, 33)\n",
      "y_train shape: (2387948,), y_test shape: (596988,)\n"
     ]
    }
   ],
   "source": [
    "print(\"\\n--- Preparing for Preprocessing ---\")\n",
    "\n",
    "# Separate features (X) and target (y)\n",
    "y = df['price']\n",
    "X = df.drop('price', axis=1)\n",
    "\n",
    "# Identify numerical and categorical columns *after* cleaning\n",
    "numerical_cols = X.select_dtypes(include=np.number).columns.tolist()\n",
    "categorical_cols = X.select_dtypes(include=['object', 'category']).columns.tolist()\n",
    "\n",
    "print(f\"\\nIdentified {len(numerical_cols)} numerical columns:\")\n",
    "print(numerical_cols)\n",
    "print(f\"\\nIdentified {len(categorical_cols)} categorical columns:\")\n",
    "print(categorical_cols)\n",
    "\n",
    "# --- Cardinality Check for Categorical Features ---\n",
    "print(\"\\n--- Checking Cardinality of Categorical Features ---\")\n",
    "high_cardinality_threshold = 50 # Max unique values before dropping (adjust as needed)\n",
    "cols_to_drop_for_cardinality = []\n",
    "low_card_categorical_cols = []\n",
    "\n",
    "for col in categorical_cols:\n",
    "    unique_count = X[col].nunique(dropna=False) # Include NaN in count if present\n",
    "    print(f\"Column '{col}': {unique_count} unique values\")\n",
    "    if unique_count > high_cardinality_threshold:\n",
    "        cols_to_drop_for_cardinality.append(col)\n",
    "        print(f\"  -> Dropping '{col}' due to high cardinality.\")\n",
    "    else:\n",
    "        low_card_categorical_cols.append(col)\n",
    "\n",
    "if cols_to_drop_for_cardinality:\n",
    "    X.drop(columns=cols_to_drop_for_cardinality, inplace=True)\n",
    "    print(f\"\\nDropped high cardinality columns: {cols_to_drop_for_cardinality}\")\n",
    "    categorical_cols = low_card_categorical_cols # Update the list for the pipeline\n",
    "    print(f\"Remaining categorical columns for encoding: {categorical_cols}\")\n",
    "\n",
    "# Update numerical cols list in case some were dropped if misidentified initially\n",
    "numerical_cols = X.select_dtypes(include=np.number).columns.tolist()\n",
    "\n",
    "# --- Train/Test Split ---\n",
    "print(f\"\\n--- Splitting data into Train/Test ({1-TEST_SIZE:.0%}/{TEST_SIZE:.0%}) ---\")\n",
    "X_train, X_test, y_train, y_test = train_test_split(\n",
    "    X, y, test_size=TEST_SIZE, random_state=RANDOM_STATE\n",
    ")\n",
    "print(f\"X_train shape: {X_train.shape}, X_test shape: {X_test.shape}\")\n",
    "print(f\"y_train shape: {y_train.shape}, y_test shape: {y_test.shape}\")\n"
   ]
  },
  {
   "cell_type": "markdown",
   "id": "f9d1d85c",
   "metadata": {
    "papermill": {
     "duration": 0.006157,
     "end_time": "2025-04-11T19:15:18.462662",
     "exception": false,
     "start_time": "2025-04-11T19:15:18.456505",
     "status": "completed"
    },
    "tags": []
   },
   "source": [
    "# 7. Create Preprocessing Pipeline"
   ]
  },
  {
   "cell_type": "code",
   "execution_count": 9,
   "id": "7014618e",
   "metadata": {
    "execution": {
     "iopub.execute_input": "2025-04-11T19:15:18.476239Z",
     "iopub.status.busy": "2025-04-11T19:15:18.475965Z",
     "iopub.status.idle": "2025-04-11T19:15:18.481889Z",
     "shell.execute_reply": "2025-04-11T19:15:18.481135Z"
    },
    "papermill": {
     "duration": 0.013874,
     "end_time": "2025-04-11T19:15:18.483051",
     "exception": false,
     "start_time": "2025-04-11T19:15:18.469177",
     "status": "completed"
    },
    "tags": []
   },
   "outputs": [
    {
     "name": "stdout",
     "output_type": "stream",
     "text": [
      "\n",
      "--- Creating Preprocessing Pipeline ---\n"
     ]
    }
   ],
   "source": [
    "print(\"\\n--- Creating Preprocessing Pipeline ---\")\n",
    "\n",
    "# Pipeline for numerical features: Impute NaNs with median, then scale\n",
    "# Scaling is less critical for tree-based models but good practice\n",
    "numeric_transformer = Pipeline(steps=[\n",
    "    ('imputer', SimpleImputer(strategy='median')),\n",
    "    ('scaler', StandardScaler()) # Optional for Trees, but doesn't hurt\n",
    "])\n",
    "\n",
    "# Pipeline for categorical features: Impute NaNs with 'Unknown', then One-Hot Encode\n",
    "categorical_transformer = Pipeline(steps=[\n",
    "    ('imputer', SimpleImputer(strategy='constant', fill_value='Unknown')),\n",
    "    ('onehot', OneHotEncoder(handle_unknown='ignore', sparse_output=False)) # Set sparse_output=False for dense array needed by some models\n",
    "])\n",
    "\n",
    "# Create the ColumnTransformer\n",
    "# Ensure lists are not empty before adding transformers\n",
    "transformers_list = []\n",
    "if numerical_cols:\n",
    "    transformers_list.append(('num', numeric_transformer, numerical_cols))\n",
    "if categorical_cols:\n",
    "    transformers_list.append(('cat', categorical_transformer, categorical_cols))\n",
    "\n",
    "if not transformers_list:\n",
    "     raise ValueError(\"No features selected for preprocessing. Check column identification and dropping steps.\")\n",
    "\n",
    "preprocessor = ColumnTransformer(transformers=transformers_list, remainder='passthrough') # 'passthrough' keeps columns not specified (shouldn't be any here)"
   ]
  },
  {
   "cell_type": "markdown",
   "id": "949962fe",
   "metadata": {
    "papermill": {
     "duration": 0.006068,
     "end_time": "2025-04-11T19:15:18.495547",
     "exception": false,
     "start_time": "2025-04-11T19:15:18.489479",
     "status": "completed"
    },
    "tags": []
   },
   "source": [
    "# 8. Apply Preprocessing"
   ]
  },
  {
   "cell_type": "code",
   "execution_count": 10,
   "id": "902755b5",
   "metadata": {
    "execution": {
     "iopub.execute_input": "2025-04-11T19:15:18.508989Z",
     "iopub.status.busy": "2025-04-11T19:15:18.508785Z",
     "iopub.status.idle": "2025-04-11T19:15:52.591919Z",
     "shell.execute_reply": "2025-04-11T19:15:52.590978Z"
    },
    "papermill": {
     "duration": 34.107165,
     "end_time": "2025-04-11T19:15:52.609120",
     "exception": false,
     "start_time": "2025-04-11T19:15:18.501955",
     "status": "completed"
    },
    "tags": []
   },
   "outputs": [
    {
     "name": "stdout",
     "output_type": "stream",
     "text": [
      "\n",
      "--- Applying Preprocessing Pipeline (Fitting on Train, Transforming Train/Test) ---\n",
      "Preprocessing completed in 34.08 seconds.\n",
      "X_train_processed shape: (2387948, 147)\n",
      "X_test_processed shape: (596988, 147)\n"
     ]
    }
   ],
   "source": [
    "print(\"\\n--- Applying Preprocessing Pipeline (Fitting on Train, Transforming Train/Test) ---\")\n",
    "start_time = time.time()\n",
    "\n",
    "# Fit on training data ONLY\n",
    "preprocessor.fit(X_train)\n",
    "\n",
    "# Transform both training and testing data\n",
    "X_train_processed = preprocessor.transform(X_train)\n",
    "X_test_processed = preprocessor.transform(X_test)\n",
    "\n",
    "preprocess_time = time.time() - start_time\n",
    "print(f\"Preprocessing completed in {preprocess_time:.2f} seconds.\")\n",
    "print(f\"X_train_processed shape: {X_train_processed.shape}\")\n",
    "print(f\"X_test_processed shape: {X_test_processed.shape}\")\n",
    "\n",
    "\n",
    "# Get feature names after transformation (important for plotting importance)\n",
    "try:\n",
    "    feature_names_out = preprocessor.get_feature_names_out()\n",
    "except Exception as e:\n",
    "    print(f\"Could not get feature names using get_feature_names_out(): {e}\")\n",
    "    num_output_features = X_train_processed.shape[1]\n",
    "    feature_names_out = [f'feature_{i}' for i in range(num_output_features)]"
   ]
  },
  {
   "cell_type": "markdown",
   "id": "f83dec70",
   "metadata": {
    "papermill": {
     "duration": 0.006597,
     "end_time": "2025-04-11T19:15:52.622658",
     "exception": false,
     "start_time": "2025-04-11T19:15:52.616061",
     "status": "completed"
    },
    "tags": []
   },
   "source": [
    "# 9. Model Training, Evaluation, and Feature Importance"
   ]
  },
  {
   "cell_type": "markdown",
   "id": "4d0a6f7c",
   "metadata": {
    "papermill": {
     "duration": 0.006629,
     "end_time": "2025-04-11T19:15:52.637116",
     "exception": false,
     "start_time": "2025-04-11T19:15:52.630487",
     "status": "completed"
    },
    "tags": []
   },
   "source": [
    "# LightGBM Regressor"
   ]
  },
  {
   "cell_type": "code",
   "execution_count": 11,
   "id": "49c6905c",
   "metadata": {
    "execution": {
     "iopub.execute_input": "2025-04-11T19:15:52.652458Z",
     "iopub.status.busy": "2025-04-11T19:15:52.651921Z",
     "iopub.status.idle": "2025-04-11T19:16:37.740425Z",
     "shell.execute_reply": "2025-04-11T19:16:37.739617Z"
    },
    "papermill": {
     "duration": 45.097905,
     "end_time": "2025-04-11T19:16:37.741808",
     "exception": false,
     "start_time": "2025-04-11T19:15:52.643903",
     "status": "completed"
    },
    "tags": []
   },
   "outputs": [
    {
     "name": "stdout",
     "output_type": "stream",
     "text": [
      "\n",
      "--- LightGBM Regressor ---\n",
      "Instantiating and training LightGBM Regressor...\n",
      "[LightGBM] [Info] Auto-choosing row-wise multi-threading, the overhead of testing was 0.262046 seconds.\n",
      "You can set `force_row_wise=true` to remove the overhead.\n",
      "And if memory is not enough, you can set `force_col_wise=true`.\n",
      "[LightGBM] [Info] Total Bins 3142\n",
      "[LightGBM] [Info] Number of data points in the train set: 2387948, number of used features: 136\n",
      "[LightGBM] [Info] Start training from score 29292.459142\n",
      "Training until validation scores don't improve for 10 rounds\n",
      "Did not meet early stopping. Best iteration is:\n",
      "[300]\tvalid_0's rmse: 3945.63\n",
      "LightGBM training completed in 39.98 seconds.\n",
      "Predicting on test set...\n",
      "\n",
      "LightGBM Evaluation Metrics (on Test Set):\n",
      "  R2 Score: 0.9355\n",
      "  Mean Absolute Error (MAE): $2,654.04\n",
      "  Root Mean Squared Error (RMSE): $3,945.63\n",
      "  Accuracy: 93.5522\n",
      "\n",
      "--- LightGBM Analysis Complete ---\n"
     ]
    }
   ],
   "source": [
    "# --- LightGBM Regressor ---\n",
    "print(\"\\n--- LightGBM Regressor ---\")\n",
    "\n",
    "print(\"Instantiating and training LightGBM Regressor...\")\n",
    "start_time = time.time()\n",
    "\n",
    "# Instantiate the LightGBM Regressor model\n",
    "# Parameters often need tuning; these are common starting points.\n",
    "# LightGBM can often handle higher 'num_leaves' than 'max_depth' in XGBoost.\n",
    "lgbm_model = lgb.LGBMRegressor(\n",
    "    objective='regression_l2', # Equivalent to 'reg:squarederror' (MSE loss)\n",
    "    metric='rmse',             # Metric to optimize internally (RMSE is common)\n",
    "    n_estimators=300,         # Number of boosting rounds (trees)\n",
    "    learning_rate=0.1,        # Step size\n",
    "    num_leaves=31,            # Max number of leaves in one tree (default is 31)\n",
    "    max_depth=-1,             # No limit on depth by default if num_leaves is set\n",
    "    subsample=0.8,            # Fraction of samples used per tree (like XGBoost)\n",
    "    colsample_bytree=0.8,     # Fraction of features used per tree (like XGBoost)\n",
    "    random_state=RANDOM_STATE,\n",
    "    n_jobs=-1                 # Use all available CPU cores\n",
    "    # boosting_type='gbdt'    # Default gradient boosted decision tree\n",
    ")\n",
    "\n",
    "# Train the model\n",
    "# Optional: Use early stopping with an evaluation set (recommended for large datasets)\n",
    "# Example:\n",
    "eval_set = [(X_test_processed, y_test)]\n",
    "callbacks = [lgb.early_stopping(stopping_rounds=10, verbose=True)] # Note: Use lgb callbacks\n",
    "lgbm_model.fit(X_train_processed, y_train,\n",
    "               eval_set=eval_set,\n",
    "               callbacks=callbacks)\n",
    "\n",
    "# Training without explicit early stopping in fit:\n",
    "# lgbm_model.fit(X_train_processed, y_train)\n",
    "\n",
    "\n",
    "lgbm_train_time = time.time() - start_time\n",
    "print(f\"LightGBM training completed in {lgbm_train_time:.2f} seconds.\")\n",
    "\n",
    "\n",
    "# Predict on Test Set\n",
    "print(\"Predicting on test set...\")\n",
    "y_pred_lgbm = lgbm_model.predict(X_test_processed)\n",
    "\n",
    "# Evaluate Model\n",
    "print(\"\\nLightGBM Evaluation Metrics (on Test Set):\")\n",
    "lgbm_r2 = r2_score(y_test, y_pred_lgbm)\n",
    "lgbm_mae = mean_absolute_error(y_test, y_pred_lgbm)\n",
    "lgbm_mse = mean_squared_error(y_test, y_pred_lgbm)\n",
    "lgbm_rmse = np.sqrt(lgbm_mse)\n",
    "\n",
    "print(f\"  R2 Score: {lgbm_r2:.4f}\")\n",
    "print(f\"  Mean Absolute Error (MAE): ${lgbm_mae:,.2f}\")\n",
    "print(f\"  Root Mean Squared Error (RMSE): ${lgbm_rmse:,.2f}\")\n",
    "print(f\"  Accuracy: {lgbm_r2 * 100:.4f}\")\n",
    "\n",
    "\n",
    "print(\"\\n--- LightGBM Analysis Complete ---\")"
   ]
  },
  {
   "cell_type": "markdown",
   "id": "e96b7dea",
   "metadata": {
    "papermill": {
     "duration": 0.006924,
     "end_time": "2025-04-11T19:16:37.756879",
     "exception": false,
     "start_time": "2025-04-11T19:16:37.749955",
     "status": "completed"
    },
    "tags": []
   },
   "source": [
    "# XGBoost Regressor"
   ]
  },
  {
   "cell_type": "code",
   "execution_count": 12,
   "id": "5dab7bcf",
   "metadata": {
    "execution": {
     "iopub.execute_input": "2025-04-11T19:16:37.771491Z",
     "iopub.status.busy": "2025-04-11T19:16:37.771195Z",
     "iopub.status.idle": "2025-04-11T19:17:10.501017Z",
     "shell.execute_reply": "2025-04-11T19:17:10.499959Z"
    },
    "papermill": {
     "duration": 32.739144,
     "end_time": "2025-04-11T19:17:10.503166",
     "exception": false,
     "start_time": "2025-04-11T19:16:37.764022",
     "status": "completed"
    },
    "tags": []
   },
   "outputs": [
    {
     "name": "stdout",
     "output_type": "stream",
     "text": [
      "\n",
      "--- XGBoost Regressor ---\n",
      "GPU detected. Configuring XGBoost for GPU usage.\n",
      "Instantiating and training XGBoost Regressor...\n",
      "Training XGBoost with early stopping...\n",
      "XGBoost training completed using early stopping at iteration 299.\n",
      "Total training time: 30.77 seconds.\n",
      "Predicting on test set...\n"
     ]
    },
    {
     "name": "stderr",
     "output_type": "stream",
     "text": [
      "/usr/local/lib/python3.10/dist-packages/xgboost/core.py:160: UserWarning: [19:17:08] WARNING: /workspace/src/common/error_msg.cc:58: Falling back to prediction using DMatrix due to mismatched devices. This might lead to higher memory usage and slower performance. XGBoost is running on: cuda:0, while the input data is on: cpu.\n",
      "Potential solutions:\n",
      "- Use a data structure that matches the device ordinal in the booster.\n",
      "- Set the device for booster before call to inplace_predict.\n",
      "\n",
      "This warning will only be shown once.\n",
      "\n",
      "  warnings.warn(smsg, UserWarning)\n"
     ]
    },
    {
     "name": "stdout",
     "output_type": "stream",
     "text": [
      "\n",
      "XGBoost Evaluation Metrics (on Test Set):\n",
      "  R2 Score: 0.9407\n",
      "  Mean Absolute Error (MAE): $2,509.50\n",
      "  Root Mean Squared Error (RMSE): $3,783.37\n",
      "  Acuuracy: 94.0716\n",
      "\n",
      "--- XGBoost Analysis Complete ---\n"
     ]
    }
   ],
   "source": [
    "# --- XGBoost Regressor ---\n",
    "print(\"\\n--- XGBoost Regressor ---\")\n",
    "\n",
    "# Check if GPU is available for XGBoost (optional, but good for performance)\n",
    "try:\n",
    "    import subprocess\n",
    "    subprocess.check_output('nvidia-smi')\n",
    "    gpu_available_xgb = True\n",
    "    print(\"GPU detected. Configuring XGBoost for GPU usage.\")\n",
    "except Exception:\n",
    "    gpu_available_xgb = False\n",
    "    print(\"No GPU detected or nvidia-smi command failed. Configuring XGBoost for CPU usage.\")\n",
    "    \n",
    "print(\"Instantiating and training XGBoost Regressor...\")\n",
    "start_time = time.time()\n",
    "\n",
    "# Instantiate the XGBoost Regressor model\n",
    "# Parameters often need tuning, these are reasonable starting points for large data\n",
    "xgb_model = xgb.XGBRegressor(\n",
    "    objective='reg:squarederror', # Specifies regression task and loss function\n",
    "    n_estimators=300,             # Number of boosting rounds (trees) - adjust as needed\n",
    "    learning_rate=0.1,            # Step size shrinkage - lower values often require more estimators\n",
    "    max_depth=7,                  # Maximum depth of a tree - controls complexity\n",
    "    subsample=0.8,                # Fraction of samples used per tree\n",
    "    colsample_bytree=0.8,         # Fraction of features used per tree\n",
    "    random_state=RANDOM_STATE,\n",
    "    n_jobs=-1,                    # Use all available CPU cores\n",
    "    tree_method='hist',\n",
    "    device='cuda' if gpu_available_xgb else 'cpu',\n",
    "    early_stopping_rounds=10, # Stop if metric doesn't improve for 10 rounds\n",
    "    eval_metric='rmse'        # Metric to monitor for early stopping\n",
    ")\n",
    "\n",
    "# Train the model\n",
    "# Optional: Use early stopping by providing an evaluation set\n",
    "# Create eval set from a portion of training data or use the test set (carefully)\n",
    "# Example with early stopping (requires splitting train further or using test):\n",
    "eval_set = [(X_test_processed, y_test)]\n",
    "\n",
    "print(\"Training XGBoost with early stopping...\")\n",
    "xgb_model.fit(\n",
    "    X_train_processed,\n",
    "    y_train,\n",
    "    eval_set=eval_set,\n",
    "    verbose=False # Set to True or a number (e.g., 50) to see progress/evaluation metric during training\n",
    ")\n",
    "\n",
    "# Training without explicit early stopping in fit:\n",
    "# xgb_model.fit(X_train_processed, y_train)\n",
    "\n",
    "xgb_train_time = time.time() - start_time\n",
    "\n",
    "# Check the best iteration if early stopping was triggered\n",
    "best_iteration = getattr(xgb_model, 'best_iteration', None)\n",
    "if best_iteration is not None:\n",
    "     print(f\"XGBoost training completed using early stopping at iteration {best_iteration}.\")\n",
    "else:\n",
    "     # If early stopping wasn't triggered or not used in fit, n_estimators were used.\n",
    "     # Note: If using constructor early_stopping_rounds, best_iteration should be set.\n",
    "     print(f\"XGBoost training completed after {xgb_model.n_estimators} iterations (or full n_estimators).\")\n",
    "\n",
    "print(f\"Total training time: {xgb_train_time:.2f} seconds.\")\n",
    "\n",
    "\n",
    "# Predict on Test Set\n",
    "print(\"Predicting on test set...\")\n",
    "# The mismatched device warning might still appear here, which is usually acceptable.\n",
    "# To fully resolve it, convert X_test_processed to a CuPy array if using GPU:\n",
    "# if gpu_available_xgb:\n",
    "#    import cupy as cp\n",
    "#    X_test_processed_gpu = cp.asarray(X_test_processed)\n",
    "#    y_pred_xgb = xgb_model.predict(X_test_processed_gpu)\n",
    "# else:\n",
    "#    y_pred_xgb = xgb_model.predict(X_test_processed)\n",
    "# For simplicity, we'll proceed without CuPy conversion for now:\n",
    "y_pred_xgb = xgb_model.predict(X_test_processed)\n",
    "\n",
    "# Evaluate Model\n",
    "print(\"\\nXGBoost Evaluation Metrics (on Test Set):\")\n",
    "xgb_r2 = r2_score(y_test, y_pred_xgb)\n",
    "xgb_mae = mean_absolute_error(y_test, y_pred_xgb)\n",
    "xgb_mse = mean_squared_error(y_test, y_pred_xgb)\n",
    "xgb_rmse = np.sqrt(xgb_mse)\n",
    "\n",
    "print(f\"  R2 Score: {xgb_r2:.4f}\")\n",
    "print(f\"  Mean Absolute Error (MAE): ${xgb_mae:,.2f}\")\n",
    "print(f\"  Root Mean Squared Error (RMSE): ${xgb_rmse:,.2f}\")\n",
    "print(f\"  Acuuracy: {xgb_r2 * 100:.4f}\")\n",
    "\n",
    "\n",
    "print(\"\\n--- XGBoost Analysis Complete ---\")"
   ]
  },
  {
   "cell_type": "markdown",
   "id": "07498b06",
   "metadata": {
    "papermill": {
     "duration": 0.007453,
     "end_time": "2025-04-11T19:17:10.523256",
     "exception": false,
     "start_time": "2025-04-11T19:17:10.515803",
     "status": "completed"
    },
    "tags": []
   },
   "source": [
    "# Decision Tree"
   ]
  },
  {
   "cell_type": "code",
   "execution_count": 13,
   "id": "9162a086",
   "metadata": {
    "execution": {
     "iopub.execute_input": "2025-04-11T19:17:10.538172Z",
     "iopub.status.busy": "2025-04-11T19:17:10.537922Z",
     "iopub.status.idle": "2025-04-11T19:18:06.371750Z",
     "shell.execute_reply": "2025-04-11T19:18:06.370790Z"
    },
    "papermill": {
     "duration": 55.844013,
     "end_time": "2025-04-11T19:18:06.374334",
     "exception": false,
     "start_time": "2025-04-11T19:17:10.530321",
     "status": "completed"
    },
    "tags": []
   },
   "outputs": [
    {
     "name": "stdout",
     "output_type": "stream",
     "text": [
      "\n",
      "--- Decision Tree ---\n",
      "Training Decision Tree Regressor...\n",
      "Decision Tree training completed in 54.91 seconds.\n",
      "Predicting on test set...\n",
      "\n",
      "Decision Tree Evaluation Metrics (on Test Set):\n",
      "  R2 Score: 0.9382\n",
      "  Mean Absolute Error (MAE): 2,443.08\n",
      "  Root Mean Squared Error (RMSE): 3,861.96\n",
      "  Accuracy: 93.8228\n",
      "\n",
      "Top 25 Features (Decision Tree):\n",
      "num__horsepower                   0.445693\n",
      "num__mileage                      0.280347\n",
      "num__car_age                      0.056081\n",
      "num__engine_displacement          0.023697\n",
      "cat__body_type_SUV / Crossover    0.022035\n",
      "num__width                        0.018837\n",
      "num__back_legroom                 0.017703\n",
      "num__length                       0.012796\n",
      "num__is_new                       0.011117\n",
      "num__fuel_tank_volume             0.010628\n",
      "cat__wheel_system_FWD             0.010183\n",
      "num__wheelbase                    0.009420\n",
      "num__front_legroom                0.007932\n",
      "num__height                       0.007887\n",
      "cat__wheel_system_4WD             0.006776\n",
      "num__maximum_seating              0.006408\n",
      "cat__wheel_system_AWD             0.006027\n",
      "num__seller_rating                0.003846\n",
      "num__highway_fuel_economy         0.003578\n",
      "cat__body_type_Sedan              0.003128\n",
      "cat__engine_cylinders_V8          0.002712\n",
      "num__daysonmarket                 0.002669\n",
      "cat__fuel_type_Unknown            0.002622\n",
      "cat__fuel_type_Electric           0.002446\n",
      "num__city_fuel_economy            0.002286\n",
      "dtype: float64\n"
     ]
    },
    {
     "data": {
      "image/png": "[encoded data removed]",
      "text/plain": [
       "<Figure size 1200x800 with 1 Axes>"
      ]
     },
     "metadata": {},
     "output_type": "display_data"
    },
    {
     "name": "stdout",
     "output_type": "stream",
     "text": [
      "\n",
      "--- Decision Tree Analysis Complete ---\n"
     ]
    }
   ],
   "source": [
    "# --- Decision Tree ---\n",
    "print(\"\\n--- Decision Tree ---\")\n",
    "print(\"Training Decision Tree Regressor...\")\n",
    "start_time = time.time()\n",
    "dt_model = DecisionTreeRegressor(random_state=RANDOM_STATE,\n",
    "                                 max_depth=20,\n",
    "                                 min_samples_leaf=20)\n",
    "dt_model.fit(X_train_processed, y_train) # Train on processed training data\n",
    "dt_train_time = time.time() - start_time\n",
    "print(f\"Decision Tree training completed in {dt_train_time:.2f} seconds.\")\n",
    "\n",
    "# Predict on Test Set\n",
    "print(\"Predicting on test set...\")\n",
    "y_pred_dt = dt_model.predict(X_test_processed)\n",
    "\n",
    "# Evaluate Model\n",
    "print(\"\\nDecision Tree Evaluation Metrics (on Test Set):\")\n",
    "dt_r2 = r2_score(y_test, y_pred_dt)\n",
    "dt_mae = mean_absolute_error(y_test, y_pred_dt)\n",
    "dt_mse = mean_squared_error(y_test, y_pred_dt)\n",
    "dt_rmse = np.sqrt(dt_mse)\n",
    "print(f\"  R2 Score: {dt_r2:.4f}\")\n",
    "print(f\"  Mean Absolute Error (MAE): {dt_mae:,.2f}\")\n",
    "print(f\"  Root Mean Squared Error (RMSE): {dt_rmse:,.2f}\")\n",
    "print(f\"  Accuracy: {dt_r2 * 100:.4f}\")\n",
    "\n",
    "\n",
    "# Feature Importance (based on model trained on X_train_processed)\n",
    "dt_importances = pd.Series(dt_model.feature_importances_, index=feature_names_out).sort_values(ascending=False)\n",
    "print(f\"\\nTop {N_TOP_FEATURES} Features (Decision Tree):\")\n",
    "print(dt_importances.head(N_TOP_FEATURES))\n",
    "\n",
    "# Plot Feature Importances\n",
    "plt.figure(figsize=(12, 8))\n",
    "sns.barplot(x=dt_importances.head(N_TOP_FEATURES).values, y=dt_importances.head(N_TOP_FEATURES).index)\n",
    "plt.title(f'Top {N_TOP_FEATURES} Feature Importances (Decision Tree Regressor)')\n",
    "plt.xlabel('Importance Score')\n",
    "plt.ylabel('Features (Post-Transformation)')\n",
    "plt.tight_layout()\n",
    "plt.show()\n",
    "\n",
    "print(\"\\n--- Decision Tree Analysis Complete ---\")"
   ]
  },
  {
   "cell_type": "markdown",
   "id": "5699d884",
   "metadata": {
    "papermill": {
     "duration": 0.008888,
     "end_time": "2025-04-11T19:18:06.392601",
     "exception": false,
     "start_time": "2025-04-11T19:18:06.383713",
     "status": "completed"
    },
    "tags": []
   },
   "source": [
    "# Random Forest"
   ]
  },
  {
   "cell_type": "code",
   "execution_count": 14,
   "id": "e8651fbb",
   "metadata": {
    "execution": {
     "iopub.execute_input": "2025-04-11T19:18:06.411882Z",
     "iopub.status.busy": "2025-04-11T19:18:06.411602Z",
     "iopub.status.idle": "2025-04-11T19:33:42.521019Z",
     "shell.execute_reply": "2025-04-11T19:33:42.520146Z"
    },
    "papermill": {
     "duration": 936.120525,
     "end_time": "2025-04-11T19:33:42.522327",
     "exception": false,
     "start_time": "2025-04-11T19:18:06.401802",
     "status": "completed"
    },
    "tags": []
   },
   "outputs": [
    {
     "name": "stdout",
     "output_type": "stream",
     "text": [
      "\n",
      "--- Random Forest ---\n",
      "Training Random Forest Regressor...\n",
      "Random Forest training completed in 928.70 seconds.\n",
      "Predicting on test set...\n",
      "\n",
      "Random Forest Evaluation Metrics (on Test Set):\n",
      "  R2 Score: 0.9473\n",
      "  Mean Absolute Error (MAE): 2,280.84\n",
      "  Root Mean Squared Error (RMSE): 3,567.57\n",
      "  Accuracy: 94.7286\n",
      "\n",
      "Random Forest Out-of-Bag (OOB) R2 Score: 0.9474\n",
      "\n",
      "Top 25 Features (Random Forest):\n",
      "num__horsepower                   0.318202\n",
      "num__mileage                      0.198565\n",
      "num__car_age                      0.103914\n",
      "num__fuel_tank_volume             0.059107\n",
      "num__width                        0.044628\n",
      "num__is_new                       0.037058\n",
      "num__engine_displacement          0.032393\n",
      "num__wheelbase                    0.024675\n",
      "num__back_legroom                 0.016713\n",
      "cat__wheel_system_FWD             0.016684\n",
      "num__height                       0.014690\n",
      "num__length                       0.014457\n",
      "num__savings_amount               0.013293\n",
      "num__maximum_seating              0.010512\n",
      "cat__body_type_SUV / Crossover    0.010125\n",
      "num__front_legroom                0.009968\n",
      "cat__wheel_system_AWD             0.005560\n",
      "num__city_fuel_economy            0.005094\n",
      "num__highway_fuel_economy         0.004835\n",
      "num__owner_count                  0.004677\n",
      "cat__body_type_Pickup Truck       0.004070\n",
      "cat__wheel_system_4WD             0.003669\n",
      "num__daysonmarket                 0.003106\n",
      "num__seller_rating                0.003035\n",
      "cat__engine_type_I4               0.002871\n",
      "dtype: float64\n"
     ]
    },
    {
     "data": {
      "image/png": "[encoded data removed]",
      "text/plain": [
       "<Figure size 1200x800 with 1 Axes>"
      ]
     },
     "metadata": {},
     "output_type": "display_data"
    },
    {
     "name": "stdout",
     "output_type": "stream",
     "text": [
      "\n",
      "--- Random Forest Analysis Complete ---\n"
     ]
    }
   ],
   "source": [
    "# --- Random Forest ---\n",
    "print(\"\\n--- Random Forest ---\")\n",
    "print(\"Training Random Forest Regressor...\")\n",
    "start_time = time.time()\n",
    "rf_model = RandomForestRegressor(n_estimators=100,\n",
    "                                 random_state=RANDOM_STATE,\n",
    "                                 n_jobs=-1,\n",
    "                                 max_depth=20,\n",
    "                                 min_samples_leaf=10,\n",
    "                                 max_features=0.5,\n",
    "                                 oob_score=True)\n",
    "rf_model.fit(X_train_processed, y_train) # Train on processed training data\n",
    "rf_train_time = time.time() - start_time\n",
    "print(f\"Random Forest training completed in {rf_train_time:.2f} seconds.\")\n",
    "\n",
    "# Predict on Test Set\n",
    "print(\"Predicting on test set...\")\n",
    "y_pred_rf = rf_model.predict(X_test_processed)\n",
    "\n",
    "# Evaluate Model\n",
    "print(\"\\nRandom Forest Evaluation Metrics (on Test Set):\")\n",
    "rf_r2 = r2_score(y_test, y_pred_rf)\n",
    "rf_mae = mean_absolute_error(y_test, y_pred_rf)\n",
    "rf_mse = mean_squared_error(y_test, y_pred_rf)\n",
    "rf_rmse = np.sqrt(rf_mse)\n",
    "print(f\"  R2 Score: {rf_r2:.4f}\")\n",
    "print(f\"  Mean Absolute Error (MAE): {rf_mae:,.2f}\")\n",
    "print(f\"  Root Mean Squared Error (RMSE): {rf_rmse:,.2f}\")\n",
    "print(f\"  Accuracy: {rf_r2 * 100:.4f}\")\n",
    "\n",
    "# Display OOB Score (provides an estimate of R2 on unseen data during training)\n",
    "if rf_model.oob_score_:\n",
    "    print(f\"\\nRandom Forest Out-of-Bag (OOB) R2 Score: {rf_model.oob_score_:.4f}\")\n",
    "\n",
    "\n",
    "# Feature Importance (based on model trained on X_train_processed)\n",
    "rf_importances = pd.Series(rf_model.feature_importances_, index=feature_names_out).sort_values(ascending=False)\n",
    "print(f\"\\nTop {N_TOP_FEATURES} Features (Random Forest):\")\n",
    "print(rf_importances.head(N_TOP_FEATURES))\n",
    "\n",
    "\n",
    "# Plot Feature Importances\n",
    "plt.figure(figsize=(12, 8))\n",
    "sns.barplot(x=rf_importances.head(N_TOP_FEATURES).values, y=rf_importances.head(N_TOP_FEATURES).index)\n",
    "plt.title(f'Top {N_TOP_FEATURES} Feature Importances (Random Forest Regressor)')\n",
    "plt.xlabel('Importance Score')\n",
    "plt.ylabel('Features (Post-Transformation)')\n",
    "plt.tight_layout()\n",
    "plt.show()\n",
    "\n",
    "print(\"\\n--- Random Forest Analysis Complete ---\")"
   ]
  },
  {
   "cell_type": "markdown",
   "id": "c34eb06e",
   "metadata": {
    "papermill": {
     "duration": 0.010578,
     "end_time": "2025-04-11T19:33:42.544877",
     "exception": false,
     "start_time": "2025-04-11T19:33:42.534299",
     "status": "completed"
    },
    "tags": []
   },
   "source": [
    "# Neural Network"
   ]
  },
  {
   "cell_type": "code",
   "execution_count": 15,
   "id": "305b5048",
   "metadata": {
    "execution": {
     "iopub.execute_input": "2025-04-11T19:33:42.566800Z",
     "iopub.status.busy": "2025-04-11T19:33:42.566549Z",
     "iopub.status.idle": "2025-04-11T19:40:24.896256Z",
     "shell.execute_reply": "2025-04-11T19:40:24.895195Z"
    },
    "papermill": {
     "duration": 402.342475,
     "end_time": "2025-04-11T19:40:24.897747",
     "exception": false,
     "start_time": "2025-04-11T19:33:42.555272",
     "status": "completed"
    },
    "tags": []
   },
   "outputs": [
    {
     "name": "stdout",
     "output_type": "stream",
     "text": [
      "\n",
      "--- Neural Network ---\n",
      "Num GPUs Available:  2\n",
      "Neural Network Input Shape: 147\n"
     ]
    },
    {
     "data": {
      "text/html": [
       "<pre style=\"white-space:pre;overflow-x:auto;line-height:normal;font-family:Menlo,'DejaVu Sans Mono',consolas,'Courier New',monospace\"><span style=\"font-weight: bold\">Model: \"sequential\"</span>\n",
       "</pre>\n"
      ],
      "text/plain": [
       "\u001b[1mModel: \"sequential\"\u001b[0m\n"
      ]
     },
     "metadata": {},
     "output_type": "display_data"
    },
    {
     "data": {
      "text/html": [
       "<pre style=\"white-space:pre;overflow-x:auto;line-height:normal;font-family:Menlo,'DejaVu Sans Mono',consolas,'Courier New',monospace\">┏━━━━━━━━━━━━━━━━━━━━━━━━━━━━━━━━━━━━━━┳━━━━━━━━━━━━━━━━━━━━━━━━━━━━━┳━━━━━━━━━━━━━━━━━┓\n",
       "┃<span style=\"font-weight: bold\"> Layer (type)                         </span>┃<span style=\"font-weight: bold\"> Output Shape                </span>┃<span style=\"font-weight: bold\">         Param # </span>┃\n",
       "┡━━━━━━━━━━━━━━━━━━━━━━━━━━━━━━━━━━━━━━╇━━━━━━━━━━━━━━━━━━━━━━━━━━━━━╇━━━━━━━━━━━━━━━━━┩\n",
       "│ dense (<span style=\"color: #0087ff; text-decoration-color: #0087ff\">Dense</span>)                        │ (<span style=\"color: #00d7ff; text-decoration-color: #00d7ff\">None</span>, <span style=\"color: #00af00; text-decoration-color: #00af00\">128</span>)                 │          <span style=\"color: #00af00; text-decoration-color: #00af00\">18,944</span> │\n",
       "├──────────────────────────────────────┼─────────────────────────────┼─────────────────┤\n",
       "│ dropout (<span style=\"color: #0087ff; text-decoration-color: #0087ff\">Dropout</span>)                    │ (<span style=\"color: #00d7ff; text-decoration-color: #00d7ff\">None</span>, <span style=\"color: #00af00; text-decoration-color: #00af00\">128</span>)                 │               <span style=\"color: #00af00; text-decoration-color: #00af00\">0</span> │\n",
       "├──────────────────────────────────────┼─────────────────────────────┼─────────────────┤\n",
       "│ dense_1 (<span style=\"color: #0087ff; text-decoration-color: #0087ff\">Dense</span>)                      │ (<span style=\"color: #00d7ff; text-decoration-color: #00d7ff\">None</span>, <span style=\"color: #00af00; text-decoration-color: #00af00\">64</span>)                  │           <span style=\"color: #00af00; text-decoration-color: #00af00\">8,256</span> │\n",
       "├──────────────────────────────────────┼─────────────────────────────┼─────────────────┤\n",
       "│ dropout_1 (<span style=\"color: #0087ff; text-decoration-color: #0087ff\">Dropout</span>)                  │ (<span style=\"color: #00d7ff; text-decoration-color: #00d7ff\">None</span>, <span style=\"color: #00af00; text-decoration-color: #00af00\">64</span>)                  │               <span style=\"color: #00af00; text-decoration-color: #00af00\">0</span> │\n",
       "├──────────────────────────────────────┼─────────────────────────────┼─────────────────┤\n",
       "│ dense_2 (<span style=\"color: #0087ff; text-decoration-color: #0087ff\">Dense</span>)                      │ (<span style=\"color: #00d7ff; text-decoration-color: #00d7ff\">None</span>, <span style=\"color: #00af00; text-decoration-color: #00af00\">32</span>)                  │           <span style=\"color: #00af00; text-decoration-color: #00af00\">2,080</span> │\n",
       "├──────────────────────────────────────┼─────────────────────────────┼─────────────────┤\n",
       "│ dense_3 (<span style=\"color: #0087ff; text-decoration-color: #0087ff\">Dense</span>)                      │ (<span style=\"color: #00d7ff; text-decoration-color: #00d7ff\">None</span>, <span style=\"color: #00af00; text-decoration-color: #00af00\">1</span>)                   │              <span style=\"color: #00af00; text-decoration-color: #00af00\">33</span> │\n",
       "└──────────────────────────────────────┴─────────────────────────────┴─────────────────┘\n",
       "</pre>\n"
      ],
      "text/plain": [
       "┏━━━━━━━━━━━━━━━━━━━━━━━━━━━━━━━━━━━━━━┳━━━━━━━━━━━━━━━━━━━━━━━━━━━━━┳━━━━━━━━━━━━━━━━━┓\n",
       "┃\u001b[1m \u001b[0m\u001b[1mLayer (type)                        \u001b[0m\u001b[1m \u001b[0m┃\u001b[1m \u001b[0m\u001b[1mOutput Shape               \u001b[0m\u001b[1m \u001b[0m┃\u001b[1m \u001b[0m\u001b[1m        Param #\u001b[0m\u001b[1m \u001b[0m┃\n",
       "┡━━━━━━━━━━━━━━━━━━━━━━━━━━━━━━━━━━━━━━╇━━━━━━━━━━━━━━━━━━━━━━━━━━━━━╇━━━━━━━━━━━━━━━━━┩\n",
       "│ dense (\u001b[38;5;33mDense\u001b[0m)                        │ (\u001b[38;5;45mNone\u001b[0m, \u001b[38;5;34m128\u001b[0m)                 │          \u001b[38;5;34m18,944\u001b[0m │\n",
       "├──────────────────────────────────────┼─────────────────────────────┼─────────────────┤\n",
       "│ dropout (\u001b[38;5;33mDropout\u001b[0m)                    │ (\u001b[38;5;45mNone\u001b[0m, \u001b[38;5;34m128\u001b[0m)                 │               \u001b[38;5;34m0\u001b[0m │\n",
       "├──────────────────────────────────────┼─────────────────────────────┼─────────────────┤\n",
       "│ dense_1 (\u001b[38;5;33mDense\u001b[0m)                      │ (\u001b[38;5;45mNone\u001b[0m, \u001b[38;5;34m64\u001b[0m)                  │           \u001b[38;5;34m8,256\u001b[0m │\n",
       "├──────────────────────────────────────┼─────────────────────────────┼─────────────────┤\n",
       "│ dropout_1 (\u001b[38;5;33mDropout\u001b[0m)                  │ (\u001b[38;5;45mNone\u001b[0m, \u001b[38;5;34m64\u001b[0m)                  │               \u001b[38;5;34m0\u001b[0m │\n",
       "├──────────────────────────────────────┼─────────────────────────────┼─────────────────┤\n",
       "│ dense_2 (\u001b[38;5;33mDense\u001b[0m)                      │ (\u001b[38;5;45mNone\u001b[0m, \u001b[38;5;34m32\u001b[0m)                  │           \u001b[38;5;34m2,080\u001b[0m │\n",
       "├──────────────────────────────────────┼─────────────────────────────┼─────────────────┤\n",
       "│ dense_3 (\u001b[38;5;33mDense\u001b[0m)                      │ (\u001b[38;5;45mNone\u001b[0m, \u001b[38;5;34m1\u001b[0m)                   │              \u001b[38;5;34m33\u001b[0m │\n",
       "└──────────────────────────────────────┴─────────────────────────────┴─────────────────┘\n"
      ]
     },
     "metadata": {},
     "output_type": "display_data"
    },
    {
     "data": {
      "text/html": [
       "<pre style=\"white-space:pre;overflow-x:auto;line-height:normal;font-family:Menlo,'DejaVu Sans Mono',consolas,'Courier New',monospace\"><span style=\"font-weight: bold\"> Total params: </span><span style=\"color: #00af00; text-decoration-color: #00af00\">29,313</span> (114.50 KB)\n",
       "</pre>\n"
      ],
      "text/plain": [
       "\u001b[1m Total params: \u001b[0m\u001b[38;5;34m29,313\u001b[0m (114.50 KB)\n"
      ]
     },
     "metadata": {},
     "output_type": "display_data"
    },
    {
     "data": {
      "text/html": [
       "<pre style=\"white-space:pre;overflow-x:auto;line-height:normal;font-family:Menlo,'DejaVu Sans Mono',consolas,'Courier New',monospace\"><span style=\"font-weight: bold\"> Trainable params: </span><span style=\"color: #00af00; text-decoration-color: #00af00\">29,313</span> (114.50 KB)\n",
       "</pre>\n"
      ],
      "text/plain": [
       "\u001b[1m Trainable params: \u001b[0m\u001b[38;5;34m29,313\u001b[0m (114.50 KB)\n"
      ]
     },
     "metadata": {},
     "output_type": "display_data"
    },
    {
     "data": {
      "text/html": [
       "<pre style=\"white-space:pre;overflow-x:auto;line-height:normal;font-family:Menlo,'DejaVu Sans Mono',consolas,'Courier New',monospace\"><span style=\"font-weight: bold\"> Non-trainable params: </span><span style=\"color: #00af00; text-decoration-color: #00af00\">0</span> (0.00 B)\n",
       "</pre>\n"
      ],
      "text/plain": [
       "\u001b[1m Non-trainable params: \u001b[0m\u001b[38;5;34m0\u001b[0m (0.00 B)\n"
      ]
     },
     "metadata": {},
     "output_type": "display_data"
    },
    {
     "name": "stdout",
     "output_type": "stream",
     "text": [
      "\n",
      "Training Neural Network for up to 50 epochs with Batch Size 512...\n",
      "Using 20% of training data for validation during training.\n",
      "Epoch 1/50\n",
      "\u001b[1m3732/3732\u001b[0m \u001b[32m━━━━━━━━━━━━━━━━━━━━\u001b[0m\u001b[37m\u001b[0m \u001b[1m15s\u001b[0m 3ms/step - loss: 243417728.0000 - mean_absolute_error: 9990.9473 - mean_squared_error: 243417728.0000 - root_mean_squared_error: 14562.7461 - val_loss: 40530072.0000 - val_mean_absolute_error: 4311.6235 - val_mean_squared_error: 40530072.0000 - val_root_mean_squared_error: 6366.3232\n",
      "Epoch 2/50\n",
      "\u001b[1m3732/3732\u001b[0m \u001b[32m━━━━━━━━━━━━━━━━━━━━\u001b[0m\u001b[37m\u001b[0m \u001b[1m8s\u001b[0m 2ms/step - loss: 49909040.0000 - mean_absolute_error: 4914.7939 - mean_squared_error: 49909040.0000 - root_mean_squared_error: 7064.0781 - val_loss: 33085502.0000 - val_mean_absolute_error: 3860.9492 - val_mean_squared_error: 33085502.0000 - val_root_mean_squared_error: 5751.9995\n",
      "Epoch 3/50\n",
      "\u001b[1m3732/3732\u001b[0m \u001b[32m━━━━━━━━━━━━━━━━━━━━\u001b[0m\u001b[37m\u001b[0m \u001b[1m8s\u001b[0m 2ms/step - loss: 44694612.0000 - mean_absolute_error: 4627.5308 - mean_squared_error: 44694612.0000 - root_mean_squared_error: 6685.3330 - val_loss: 30384454.0000 - val_mean_absolute_error: 3704.2859 - val_mean_squared_error: 30384454.0000 - val_root_mean_squared_error: 5512.2095\n",
      "Epoch 4/50\n",
      "\u001b[1m3732/3732\u001b[0m \u001b[32m━━━━━━━━━━━━━━━━━━━━\u001b[0m\u001b[37m\u001b[0m \u001b[1m8s\u001b[0m 2ms/step - loss: 42230820.0000 - mean_absolute_error: 4492.5591 - mean_squared_error: 42230820.0000 - root_mean_squared_error: 6498.4365 - val_loss: 28921234.0000 - val_mean_absolute_error: 3611.4158 - val_mean_squared_error: 28921234.0000 - val_root_mean_squared_error: 5377.8467\n",
      "Epoch 5/50\n",
      "\u001b[1m3732/3732\u001b[0m \u001b[32m━━━━━━━━━━━━━━━━━━━━\u001b[0m\u001b[37m\u001b[0m \u001b[1m8s\u001b[0m 2ms/step - loss: 40690064.0000 - mean_absolute_error: 4402.9351 - mean_squared_error: 40690064.0000 - root_mean_squared_error: 6378.8638 - val_loss: 27829560.0000 - val_mean_absolute_error: 3538.9104 - val_mean_squared_error: 27829560.0000 - val_root_mean_squared_error: 5275.3730\n",
      "Epoch 6/50\n",
      "\u001b[1m3732/3732\u001b[0m \u001b[32m━━━━━━━━━━━━━━━━━━━━\u001b[0m\u001b[37m\u001b[0m \u001b[1m7s\u001b[0m 2ms/step - loss: 39527844.0000 - mean_absolute_error: 4337.8945 - mean_squared_error: 39527844.0000 - root_mean_squared_error: 6287.0820 - val_loss: 26435490.0000 - val_mean_absolute_error: 3486.7876 - val_mean_squared_error: 26435490.0000 - val_root_mean_squared_error: 5141.5454\n",
      "Epoch 7/50\n",
      "\u001b[1m3732/3732\u001b[0m \u001b[32m━━━━━━━━━━━━━━━━━━━━\u001b[0m\u001b[37m\u001b[0m \u001b[1m8s\u001b[0m 2ms/step - loss: 38388224.0000 - mean_absolute_error: 4281.4863 - mean_squared_error: 38388224.0000 - root_mean_squared_error: 6195.8037 - val_loss: 25680090.0000 - val_mean_absolute_error: 3454.4529 - val_mean_squared_error: 25680090.0000 - val_root_mean_squared_error: 5067.5527\n",
      "Epoch 8/50\n",
      "\u001b[1m3732/3732\u001b[0m \u001b[32m━━━━━━━━━━━━━━━━━━━━\u001b[0m\u001b[37m\u001b[0m \u001b[1m8s\u001b[0m 2ms/step - loss: 37722608.0000 - mean_absolute_error: 4238.8330 - mean_squared_error: 37722608.0000 - root_mean_squared_error: 6141.8423 - val_loss: 25440354.0000 - val_mean_absolute_error: 3433.5747 - val_mean_squared_error: 25440354.0000 - val_root_mean_squared_error: 5043.8433\n",
      "Epoch 9/50\n",
      "\u001b[1m3732/3732\u001b[0m \u001b[32m━━━━━━━━━━━━━━━━━━━━\u001b[0m\u001b[37m\u001b[0m \u001b[1m8s\u001b[0m 2ms/step - loss: 37201772.0000 - mean_absolute_error: 4215.5483 - mean_squared_error: 37201772.0000 - root_mean_squared_error: 6098.7920 - val_loss: 24632384.0000 - val_mean_absolute_error: 3382.1184 - val_mean_squared_error: 24632384.0000 - val_root_mean_squared_error: 4963.1021\n",
      "Epoch 10/50\n",
      "\u001b[1m3732/3732\u001b[0m \u001b[32m━━━━━━━━━━━━━━━━━━━━\u001b[0m\u001b[37m\u001b[0m \u001b[1m8s\u001b[0m 2ms/step - loss: 36429900.0000 - mean_absolute_error: 4187.3979 - mean_squared_error: 36429900.0000 - root_mean_squared_error: 6035.6895 - val_loss: 24064726.0000 - val_mean_absolute_error: 3353.5457 - val_mean_squared_error: 24064726.0000 - val_root_mean_squared_error: 4905.5811\n",
      "Epoch 11/50\n",
      "\u001b[1m3732/3732\u001b[0m \u001b[32m━━━━━━━━━━━━━━━━━━━━\u001b[0m\u001b[37m\u001b[0m \u001b[1m8s\u001b[0m 2ms/step - loss: 35942868.0000 - mean_absolute_error: 4156.5220 - mean_squared_error: 35942868.0000 - root_mean_squared_error: 5995.2114 - val_loss: 23591270.0000 - val_mean_absolute_error: 3322.2490 - val_mean_squared_error: 23591270.0000 - val_root_mean_squared_error: 4857.0845\n",
      "Epoch 12/50\n",
      "\u001b[1m3732/3732\u001b[0m \u001b[32m━━━━━━━━━━━━━━━━━━━━\u001b[0m\u001b[37m\u001b[0m \u001b[1m8s\u001b[0m 2ms/step - loss: 35234344.0000 - mean_absolute_error: 4125.2363 - mean_squared_error: 35234344.0000 - root_mean_squared_error: 5935.8418 - val_loss: 23170950.0000 - val_mean_absolute_error: 3287.5674 - val_mean_squared_error: 23170950.0000 - val_root_mean_squared_error: 4813.6211\n",
      "Epoch 13/50\n",
      "\u001b[1m3732/3732\u001b[0m \u001b[32m━━━━━━━━━━━━━━━━━━━━\u001b[0m\u001b[37m\u001b[0m \u001b[1m8s\u001b[0m 2ms/step - loss: 35096136.0000 - mean_absolute_error: 4111.4131 - mean_squared_error: 35096136.0000 - root_mean_squared_error: 5924.1738 - val_loss: 22801794.0000 - val_mean_absolute_error: 3266.2432 - val_mean_squared_error: 22801794.0000 - val_root_mean_squared_error: 4775.1226\n",
      "Epoch 14/50\n",
      "\u001b[1m3732/3732\u001b[0m \u001b[32m━━━━━━━━━━━━━━━━━━━━\u001b[0m\u001b[37m\u001b[0m \u001b[1m8s\u001b[0m 2ms/step - loss: 34585632.0000 - mean_absolute_error: 4086.5732 - mean_squared_error: 34585632.0000 - root_mean_squared_error: 5880.9302 - val_loss: 22718946.0000 - val_mean_absolute_error: 3251.6484 - val_mean_squared_error: 22718946.0000 - val_root_mean_squared_error: 4766.4395\n",
      "Epoch 15/50\n",
      "\u001b[1m3732/3732\u001b[0m \u001b[32m━━━━━━━━━━━━━━━━━━━━\u001b[0m\u001b[37m\u001b[0m \u001b[1m8s\u001b[0m 2ms/step - loss: 34517168.0000 - mean_absolute_error: 4083.4246 - mean_squared_error: 34517168.0000 - root_mean_squared_error: 5875.0713 - val_loss: 22906598.0000 - val_mean_absolute_error: 3259.5752 - val_mean_squared_error: 22906598.0000 - val_root_mean_squared_error: 4786.0835\n",
      "Epoch 16/50\n",
      "\u001b[1m3732/3732\u001b[0m \u001b[32m━━━━━━━━━━━━━━━━━━━━\u001b[0m\u001b[37m\u001b[0m \u001b[1m7s\u001b[0m 2ms/step - loss: 34354908.0000 - mean_absolute_error: 4070.9387 - mean_squared_error: 34354908.0000 - root_mean_squared_error: 5861.2979 - val_loss: 22277940.0000 - val_mean_absolute_error: 3221.4141 - val_mean_squared_error: 22277940.0000 - val_root_mean_squared_error: 4719.9512\n",
      "Epoch 17/50\n",
      "\u001b[1m3732/3732\u001b[0m \u001b[32m━━━━━━━━━━━━━━━━━━━━\u001b[0m\u001b[37m\u001b[0m \u001b[1m8s\u001b[0m 2ms/step - loss: 34057364.0000 - mean_absolute_error: 4059.1826 - mean_squared_error: 34057364.0000 - root_mean_squared_error: 5835.8574 - val_loss: 22261652.0000 - val_mean_absolute_error: 3210.0107 - val_mean_squared_error: 22261652.0000 - val_root_mean_squared_error: 4718.2256\n",
      "Epoch 18/50\n",
      "\u001b[1m3732/3732\u001b[0m \u001b[32m━━━━━━━━━━━━━━━━━━━━\u001b[0m\u001b[37m\u001b[0m \u001b[1m8s\u001b[0m 2ms/step - loss: 33876476.0000 - mean_absolute_error: 4047.9165 - mean_squared_error: 33876476.0000 - root_mean_squared_error: 5820.3364 - val_loss: 21890030.0000 - val_mean_absolute_error: 3204.2961 - val_mean_squared_error: 21890030.0000 - val_root_mean_squared_error: 4678.6782\n",
      "Epoch 19/50\n",
      "\u001b[1m3732/3732\u001b[0m \u001b[32m━━━━━━━━━━━━━━━━━━━━\u001b[0m\u001b[37m\u001b[0m \u001b[1m8s\u001b[0m 2ms/step - loss: 33672728.0000 - mean_absolute_error: 4034.8357 - mean_squared_error: 33672728.0000 - root_mean_squared_error: 5802.7998 - val_loss: 21779114.0000 - val_mean_absolute_error: 3194.4031 - val_mean_squared_error: 21779114.0000 - val_root_mean_squared_error: 4666.8096\n",
      "Epoch 20/50\n",
      "\u001b[1m3732/3732\u001b[0m \u001b[32m━━━━━━━━━━━━━━━━━━━━\u001b[0m\u001b[37m\u001b[0m \u001b[1m8s\u001b[0m 2ms/step - loss: 33656680.0000 - mean_absolute_error: 4027.9817 - mean_squared_error: 33656680.0000 - root_mean_squared_error: 5801.4072 - val_loss: 21774452.0000 - val_mean_absolute_error: 3182.4929 - val_mean_squared_error: 21774452.0000 - val_root_mean_squared_error: 4666.3101\n",
      "Epoch 21/50\n",
      "\u001b[1m3732/3732\u001b[0m \u001b[32m━━━━━━━━━━━━━━━━━━━━\u001b[0m\u001b[37m\u001b[0m \u001b[1m8s\u001b[0m 2ms/step - loss: 33686280.0000 - mean_absolute_error: 4025.4714 - mean_squared_error: 33686280.0000 - root_mean_squared_error: 5803.9248 - val_loss: 21799284.0000 - val_mean_absolute_error: 3180.4985 - val_mean_squared_error: 21799284.0000 - val_root_mean_squared_error: 4668.9702\n",
      "Epoch 22/50\n",
      "\u001b[1m3732/3732\u001b[0m \u001b[32m━━━━━━━━━━━━━━━━━━━━\u001b[0m\u001b[37m\u001b[0m \u001b[1m8s\u001b[0m 2ms/step - loss: 33528554.0000 - mean_absolute_error: 4017.2566 - mean_squared_error: 33528554.0000 - root_mean_squared_error: 5790.3574 - val_loss: 21541186.0000 - val_mean_absolute_error: 3183.9629 - val_mean_squared_error: 21541186.0000 - val_root_mean_squared_error: 4641.2480\n",
      "Epoch 23/50\n",
      "\u001b[1m3732/3732\u001b[0m \u001b[32m━━━━━━━━━━━━━━━━━━━━\u001b[0m\u001b[37m\u001b[0m \u001b[1m8s\u001b[0m 2ms/step - loss: 33357764.0000 - mean_absolute_error: 4009.4192 - mean_squared_error: 33357764.0000 - root_mean_squared_error: 5775.5952 - val_loss: 21513696.0000 - val_mean_absolute_error: 3161.8804 - val_mean_squared_error: 21513696.0000 - val_root_mean_squared_error: 4638.2856\n",
      "Epoch 24/50\n",
      "\u001b[1m3732/3732\u001b[0m \u001b[32m━━━━━━━━━━━━━━━━━━━━\u001b[0m\u001b[37m\u001b[0m \u001b[1m8s\u001b[0m 2ms/step - loss: 33211774.0000 - mean_absolute_error: 3998.1050 - mean_squared_error: 33211774.0000 - root_mean_squared_error: 5762.9463 - val_loss: 21504408.0000 - val_mean_absolute_error: 3159.0564 - val_mean_squared_error: 21504408.0000 - val_root_mean_squared_error: 4637.2842\n",
      "Epoch 25/50\n",
      "\u001b[1m3732/3732\u001b[0m \u001b[32m━━━━━━━━━━━━━━━━━━━━\u001b[0m\u001b[37m\u001b[0m \u001b[1m8s\u001b[0m 2ms/step - loss: 33069348.0000 - mean_absolute_error: 3990.5845 - mean_squared_error: 33069348.0000 - root_mean_squared_error: 5750.5781 - val_loss: 21466564.0000 - val_mean_absolute_error: 3158.9385 - val_mean_squared_error: 21466564.0000 - val_root_mean_squared_error: 4633.2021\n",
      "Epoch 26/50\n",
      "\u001b[1m3732/3732\u001b[0m \u001b[32m━━━━━━━━━━━━━━━━━━━━\u001b[0m\u001b[37m\u001b[0m \u001b[1m8s\u001b[0m 2ms/step - loss: 33140338.0000 - mean_absolute_error: 3994.2166 - mean_squared_error: 33140338.0000 - root_mean_squared_error: 5756.7529 - val_loss: 21454086.0000 - val_mean_absolute_error: 3151.7407 - val_mean_squared_error: 21454086.0000 - val_root_mean_squared_error: 4631.8555\n",
      "Epoch 27/50\n",
      "\u001b[1m3732/3732\u001b[0m \u001b[32m━━━━━━━━━━━━━━━━━━━━\u001b[0m\u001b[37m\u001b[0m \u001b[1m8s\u001b[0m 2ms/step - loss: 33060802.0000 - mean_absolute_error: 3986.2898 - mean_squared_error: 33060802.0000 - root_mean_squared_error: 5749.8140 - val_loss: 21606786.0000 - val_mean_absolute_error: 3156.3403 - val_mean_squared_error: 21606786.0000 - val_root_mean_squared_error: 4648.3101\n",
      "Epoch 28/50\n",
      "\u001b[1m3732/3732\u001b[0m \u001b[32m━━━━━━━━━━━━━━━━━━━━\u001b[0m\u001b[37m\u001b[0m \u001b[1m8s\u001b[0m 2ms/step - loss: 32690864.0000 - mean_absolute_error: 3967.0129 - mean_squared_error: 32690864.0000 - root_mean_squared_error: 5717.5752 - val_loss: 21226462.0000 - val_mean_absolute_error: 3140.9060 - val_mean_squared_error: 21226462.0000 - val_root_mean_squared_error: 4607.2183\n",
      "Epoch 29/50\n",
      "\u001b[1m3732/3732\u001b[0m \u001b[32m━━━━━━━━━━━━━━━━━━━━\u001b[0m\u001b[37m\u001b[0m \u001b[1m8s\u001b[0m 2ms/step - loss: 32701840.0000 - mean_absolute_error: 3960.9377 - mean_squared_error: 32701840.0000 - root_mean_squared_error: 5718.5430 - val_loss: 21168632.0000 - val_mean_absolute_error: 3151.2808 - val_mean_squared_error: 21168632.0000 - val_root_mean_squared_error: 4600.9380\n",
      "Epoch 30/50\n",
      "\u001b[1m3732/3732\u001b[0m \u001b[32m━━━━━━━━━━━━━━━━━━━━\u001b[0m\u001b[37m\u001b[0m \u001b[1m8s\u001b[0m 2ms/step - loss: 32385034.0000 - mean_absolute_error: 3950.5034 - mean_squared_error: 32385034.0000 - root_mean_squared_error: 5690.7720 - val_loss: 21067578.0000 - val_mean_absolute_error: 3143.0186 - val_mean_squared_error: 21067578.0000 - val_root_mean_squared_error: 4589.9429\n",
      "Epoch 31/50\n",
      "\u001b[1m3732/3732\u001b[0m \u001b[32m━━━━━━━━━━━━━━━━━━━━\u001b[0m\u001b[37m\u001b[0m \u001b[1m8s\u001b[0m 2ms/step - loss: 32457752.0000 - mean_absolute_error: 3945.4902 - mean_squared_error: 32457752.0000 - root_mean_squared_error: 5697.1646 - val_loss: 20965156.0000 - val_mean_absolute_error: 3133.0522 - val_mean_squared_error: 20965156.0000 - val_root_mean_squared_error: 4578.7725\n",
      "Epoch 32/50\n",
      "\u001b[1m3732/3732\u001b[0m \u001b[32m━━━━━━━━━━━━━━━━━━━━\u001b[0m\u001b[37m\u001b[0m \u001b[1m8s\u001b[0m 2ms/step - loss: 32566120.0000 - mean_absolute_error: 3935.4421 - mean_squared_error: 32566120.0000 - root_mean_squared_error: 5706.5728 - val_loss: 21033282.0000 - val_mean_absolute_error: 3138.4841 - val_mean_squared_error: 21033282.0000 - val_root_mean_squared_error: 4586.2056\n",
      "Epoch 33/50\n",
      "\u001b[1m3732/3732\u001b[0m \u001b[32m━━━━━━━━━━━━━━━━━━━━\u001b[0m\u001b[37m\u001b[0m \u001b[1m8s\u001b[0m 2ms/step - loss: 32074540.0000 - mean_absolute_error: 3926.7068 - mean_squared_error: 32074540.0000 - root_mean_squared_error: 5663.4126 - val_loss: 21167932.0000 - val_mean_absolute_error: 3136.3093 - val_mean_squared_error: 21167932.0000 - val_root_mean_squared_error: 4600.8623\n",
      "Epoch 34/50\n",
      "\u001b[1m3732/3732\u001b[0m \u001b[32m━━━━━━━━━━━━━━━━━━━━\u001b[0m\u001b[37m\u001b[0m \u001b[1m8s\u001b[0m 2ms/step - loss: 32460288.0000 - mean_absolute_error: 3927.0208 - mean_squared_error: 32460288.0000 - root_mean_squared_error: 5697.3521 - val_loss: 21354726.0000 - val_mean_absolute_error: 3138.6177 - val_mean_squared_error: 21354726.0000 - val_root_mean_squared_error: 4621.1172\n",
      "Epoch 35/50\n",
      "\u001b[1m3732/3732\u001b[0m \u001b[32m━━━━━━━━━━━━━━━━━━━━\u001b[0m\u001b[37m\u001b[0m \u001b[1m8s\u001b[0m 2ms/step - loss: 32369118.0000 - mean_absolute_error: 3912.0254 - mean_squared_error: 32369118.0000 - root_mean_squared_error: 5689.3193 - val_loss: 21029908.0000 - val_mean_absolute_error: 3122.6580 - val_mean_squared_error: 21029908.0000 - val_root_mean_squared_error: 4585.8374\n",
      "Epoch 36/50\n",
      "\u001b[1m3732/3732\u001b[0m \u001b[32m━━━━━━━━━━━━━━━━━━━━\u001b[0m\u001b[37m\u001b[0m \u001b[1m8s\u001b[0m 2ms/step - loss: 32140006.0000 - mean_absolute_error: 3906.7812 - mean_squared_error: 32140006.0000 - root_mean_squared_error: 5669.2002 - val_loss: 20892796.0000 - val_mean_absolute_error: 3117.5938 - val_mean_squared_error: 20892796.0000 - val_root_mean_squared_error: 4570.8638\n",
      "Epoch 37/50\n",
      "\u001b[1m3732/3732\u001b[0m \u001b[32m━━━━━━━━━━━━━━━━━━━━\u001b[0m\u001b[37m\u001b[0m \u001b[1m7s\u001b[0m 2ms/step - loss: 31767274.0000 - mean_absolute_error: 3897.4312 - mean_squared_error: 31767274.0000 - root_mean_squared_error: 5636.2373 - val_loss: 20818734.0000 - val_mean_absolute_error: 3117.2588 - val_mean_squared_error: 20818734.0000 - val_root_mean_squared_error: 4562.7549\n",
      "Epoch 38/50\n",
      "\u001b[1m3732/3732\u001b[0m \u001b[32m━━━━━━━━━━━━━━━━━━━━\u001b[0m\u001b[37m\u001b[0m \u001b[1m8s\u001b[0m 2ms/step - loss: 31818816.0000 - mean_absolute_error: 3894.6577 - mean_squared_error: 31818816.0000 - root_mean_squared_error: 5640.7632 - val_loss: 20898514.0000 - val_mean_absolute_error: 3108.8879 - val_mean_squared_error: 20898514.0000 - val_root_mean_squared_error: 4571.4893\n",
      "Epoch 39/50\n",
      "\u001b[1m3732/3732\u001b[0m \u001b[32m━━━━━━━━━━━━━━━━━━━━\u001b[0m\u001b[37m\u001b[0m \u001b[1m8s\u001b[0m 2ms/step - loss: 31418010.0000 - mean_absolute_error: 3872.7329 - mean_squared_error: 31418010.0000 - root_mean_squared_error: 5605.1084 - val_loss: 20902550.0000 - val_mean_absolute_error: 3117.3604 - val_mean_squared_error: 20902550.0000 - val_root_mean_squared_error: 4571.9307\n",
      "Epoch 40/50\n",
      "\u001b[1m3732/3732\u001b[0m \u001b[32m━━━━━━━━━━━━━━━━━━━━\u001b[0m\u001b[37m\u001b[0m \u001b[1m8s\u001b[0m 2ms/step - loss: 31515050.0000 - mean_absolute_error: 3872.6633 - mean_squared_error: 31515050.0000 - root_mean_squared_error: 5613.7861 - val_loss: 20766490.0000 - val_mean_absolute_error: 3106.8745 - val_mean_squared_error: 20766490.0000 - val_root_mean_squared_error: 4557.0264\n",
      "Epoch 41/50\n",
      "\u001b[1m3732/3732\u001b[0m \u001b[32m━━━━━━━━━━━━━━━━━━━━\u001b[0m\u001b[37m\u001b[0m \u001b[1m8s\u001b[0m 2ms/step - loss: 31167464.0000 - mean_absolute_error: 3851.6843 - mean_squared_error: 31167464.0000 - root_mean_squared_error: 5582.7666 - val_loss: 21194698.0000 - val_mean_absolute_error: 3136.7249 - val_mean_squared_error: 21194698.0000 - val_root_mean_squared_error: 4603.7700\n",
      "Epoch 42/50\n",
      "\u001b[1m3732/3732\u001b[0m \u001b[32m━━━━━━━━━━━━━━━━━━━━\u001b[0m\u001b[37m\u001b[0m \u001b[1m8s\u001b[0m 2ms/step - loss: 30984016.0000 - mean_absolute_error: 3844.1602 - mean_squared_error: 30984016.0000 - root_mean_squared_error: 5566.3164 - val_loss: 20756566.0000 - val_mean_absolute_error: 3115.3706 - val_mean_squared_error: 20756566.0000 - val_root_mean_squared_error: 4555.9375\n",
      "Epoch 43/50\n",
      "\u001b[1m3732/3732\u001b[0m \u001b[32m━━━━━━━━━━━━━━━━━━━━\u001b[0m\u001b[37m\u001b[0m \u001b[1m8s\u001b[0m 2ms/step - loss: 30969122.0000 - mean_absolute_error: 3834.9744 - mean_squared_error: 30969122.0000 - root_mean_squared_error: 5564.9717 - val_loss: 20727060.0000 - val_mean_absolute_error: 3111.3853 - val_mean_squared_error: 20727060.0000 - val_root_mean_squared_error: 4552.6978\n",
      "Epoch 44/50\n",
      "\u001b[1m3732/3732\u001b[0m \u001b[32m━━━━━━━━━━━━━━━━━━━━\u001b[0m\u001b[37m\u001b[0m \u001b[1m8s\u001b[0m 2ms/step - loss: 31078334.0000 - mean_absolute_error: 3817.1084 - mean_squared_error: 31078334.0000 - root_mean_squared_error: 5574.6318 - val_loss: 20802828.0000 - val_mean_absolute_error: 3108.5410 - val_mean_squared_error: 20802828.0000 - val_root_mean_squared_error: 4561.0117\n",
      "Epoch 45/50\n",
      "\u001b[1m3732/3732\u001b[0m \u001b[32m━━━━━━━━━━━━━━━━━━━━\u001b[0m\u001b[37m\u001b[0m \u001b[1m8s\u001b[0m 2ms/step - loss: 31195088.0000 - mean_absolute_error: 3813.6201 - mean_squared_error: 31195088.0000 - root_mean_squared_error: 5585.0679 - val_loss: 20961296.0000 - val_mean_absolute_error: 3119.8386 - val_mean_squared_error: 20961296.0000 - val_root_mean_squared_error: 4578.3511\n",
      "Epoch 46/50\n",
      "\u001b[1m3732/3732\u001b[0m \u001b[32m━━━━━━━━━━━━━━━━━━━━\u001b[0m\u001b[37m\u001b[0m \u001b[1m8s\u001b[0m 2ms/step - loss: 31256892.0000 - mean_absolute_error: 3800.9224 - mean_squared_error: 31256892.0000 - root_mean_squared_error: 5590.5728 - val_loss: 20646910.0000 - val_mean_absolute_error: 3107.1233 - val_mean_squared_error: 20646910.0000 - val_root_mean_squared_error: 4543.8872\n",
      "Epoch 47/50\n",
      "\u001b[1m3732/3732\u001b[0m \u001b[32m━━━━━━━━━━━━━━━━━━━━\u001b[0m\u001b[37m\u001b[0m \u001b[1m8s\u001b[0m 2ms/step - loss: 30417286.0000 - mean_absolute_error: 3794.1646 - mean_squared_error: 30417286.0000 - root_mean_squared_error: 5515.1724 - val_loss: 21018680.0000 - val_mean_absolute_error: 3127.7651 - val_mean_squared_error: 21018680.0000 - val_root_mean_squared_error: 4584.6133\n",
      "Epoch 48/50\n",
      "\u001b[1m3732/3732\u001b[0m \u001b[32m━━━━━━━━━━━━━━━━━━━━\u001b[0m\u001b[37m\u001b[0m \u001b[1m8s\u001b[0m 2ms/step - loss: 30252316.0000 - mean_absolute_error: 3778.1785 - mean_squared_error: 30252316.0000 - root_mean_squared_error: 5500.1831 - val_loss: 20700420.0000 - val_mean_absolute_error: 3113.8809 - val_mean_squared_error: 20700420.0000 - val_root_mean_squared_error: 4549.7715\n",
      "Epoch 49/50\n",
      "\u001b[1m3732/3732\u001b[0m \u001b[32m━━━━━━━━━━━━━━━━━━━━\u001b[0m\u001b[37m\u001b[0m \u001b[1m8s\u001b[0m 2ms/step - loss: 30100644.0000 - mean_absolute_error: 3765.9580 - mean_squared_error: 30100644.0000 - root_mean_squared_error: 5486.3823 - val_loss: 20731838.0000 - val_mean_absolute_error: 3108.8677 - val_mean_squared_error: 20731838.0000 - val_root_mean_squared_error: 4553.2227\n",
      "Epoch 50/50\n",
      "\u001b[1m3732/3732\u001b[0m \u001b[32m━━━━━━━━━━━━━━━━━━━━\u001b[0m\u001b[37m\u001b[0m \u001b[1m8s\u001b[0m 2ms/step - loss: 29967340.0000 - mean_absolute_error: 3755.0476 - mean_squared_error: 29967340.0000 - root_mean_squared_error: 5474.2134 - val_loss: 20628798.0000 - val_mean_absolute_error: 3110.0598 - val_mean_squared_error: 20628798.0000 - val_root_mean_squared_error: 4541.8936\n",
      "Neural Network training completed in 393.23 seconds.\n",
      "\n",
      "Evaluating Neural Network on Test Set...\n",
      "\n",
      "Neural Network Evaluation Metrics (on Test Set):\n",
      "  Mean Squared Error (Loss): 20,737,732.00\n",
      "  compile_metrics: 3104.1804\n",
      "\n",
      "Calculating R2 Score...\n",
      "\u001b[1m1166/1166\u001b[0m \u001b[32m━━━━━━━━━━━━━━━━━━━━\u001b[0m\u001b[37m\u001b[0m \u001b[1m2s\u001b[0m 1ms/step\n",
      "  R2 Score: 0.9141\n",
      "  Accuracy: 91.4111\n",
      "\n",
      "Plotting Training History (MAE & RMSE)...\n"
     ]
    },
    {
     "data": {
      "image/png": "[encoded data removed]",
      "text/plain": [
       "<Figure size 1200x500 with 2 Axes>"
      ]
     },
     "metadata": {},
     "output_type": "display_data"
    },
    {
     "name": "stdout",
     "output_type": "stream",
     "text": [
      "\n",
      "--- Neural Network Analysis Complete ---\n",
      "\n",
      "--- ALL MODEL ANALYSES COMPLETE ---\n"
     ]
    }
   ],
   "source": [
    "# --- Neural Network (Keras/TensorFlow) ---\n",
    "print(\"\\n--- Neural Network ---\")\n",
    "\n",
    "# Check if GPU is available (recommended)\n",
    "print(\"Num GPUs Available: \", len(tf.config.experimental.list_physical_devices('GPU')))\n",
    "\n",
    "# Define the Neural Network Architecture\n",
    "def build_nn_model(input_shape):\n",
    "    model = keras.Sequential([\n",
    "        layers.Input(shape=(input_shape,)), # Define input shape explicitly\n",
    "        layers.Dense(128, activation='relu'),\n",
    "        layers.Dropout(0.3), # Add dropout for regularization\n",
    "        layers.Dense(64, activation='relu'),\n",
    "        layers.Dropout(0.3),\n",
    "        layers.Dense(32, activation='relu'),\n",
    "        layers.Dense(1) # Output layer for regression (single value, linear activation)\n",
    "    ])\n",
    "\n",
    "    # Choose an optimizer\n",
    "    optimizer = tf.keras.optimizers.Adam(learning_rate=0.001)\n",
    "\n",
    "    # Compile the model\n",
    "    model.compile(loss='mean_squared_error', # Common loss for regression\n",
    "                  optimizer=optimizer,\n",
    "                  metrics=['mean_absolute_error', 'mean_squared_error', tf.keras.metrics.RootMeanSquaredError()]) # Track relevant metrics\n",
    "    return model\n",
    "\n",
    "# Get the input shape from the processed training data\n",
    "input_shape = X_train_processed.shape[1]\n",
    "print(f\"Neural Network Input Shape: {input_shape}\")\n",
    "\n",
    "# Build the model\n",
    "nn_model = build_nn_model(input_shape)\n",
    "\n",
    "# Print model summary\n",
    "nn_model.summary()\n",
    "\n",
    "# --- Training Configuration ---\n",
    "# !! Adjust these based on resources and convergence !!\n",
    "EPOCHS = 50 # Start with a moderate number, EarlyStopping will halt if needed\n",
    "BATCH_SIZE = 512 # Increase if memory allows (faster epochs), decrease if memory errors occur\n",
    "VALIDATION_SPLIT = 0.2 # Use 20% of training data for validation during training\n",
    "\n",
    "# Define Early Stopping callback\n",
    "# Monitors 'val_loss' and stops training if it doesn't improve for 'patience' epochs\n",
    "early_stopping = EarlyStopping(monitor='val_loss', patience=5, restore_best_weights=True)\n",
    "\n",
    "print(f\"\\nTraining Neural Network for up to {EPOCHS} epochs with Batch Size {BATCH_SIZE}...\")\n",
    "print(f\"Using {VALIDATION_SPLIT*100:.0f}% of training data for validation during training.\")\n",
    "\n",
    "start_time = time.time()\n",
    "\n",
    "# Train the model\n",
    "# Ensure y_train is a NumPy array or compatible type\n",
    "history = nn_model.fit(\n",
    "    X_train_processed,\n",
    "    np.array(y_train), # Convert y_train to numpy array just in case\n",
    "    epochs=EPOCHS,\n",
    "    batch_size=BATCH_SIZE,\n",
    "    validation_split=VALIDATION_SPLIT,\n",
    "    callbacks=[early_stopping],\n",
    "    verbose=1 # Set to 1 or 2 to see progress per epoch, 0 for silent\n",
    ")\n",
    "\n",
    "nn_train_time = time.time() - start_time\n",
    "print(f\"Neural Network training completed in {nn_train_time:.2f} seconds.\")\n",
    "\n",
    "# --- Evaluate the Model on the Test Set ---\n",
    "print(\"\\nEvaluating Neural Network on Test Set...\")\n",
    "# The metrics specified during compile ('mae', 'mse', 'rmse') will be calculated\n",
    "results = nn_model.evaluate(X_test_processed, np.array(y_test), batch_size=BATCH_SIZE, verbose=0) # Use test set\n",
    "\n",
    "print(\"\\nNeural Network Evaluation Metrics (on Test Set):\")\n",
    "# Map results to metric names based on model.metrics_names\n",
    "for name, value in zip(nn_model.metrics_names, results):\n",
    "    if name == 'loss': # Loss is MSE in this case\n",
    "         print(f\"  Mean Squared Error (Loss): {value:,.2f}\")\n",
    "    elif name == 'mean_absolute_error':\n",
    "         print(f\"  Mean Absolute Error (MAE): ${value:,.2f}\")\n",
    "    elif name == 'root_mean_squared_error':\n",
    "         print(f\"  Root Mean Squared Error (RMSE): ${value:,.2f}\")\n",
    "    else: # Print any other tracked metrics\n",
    "         print(f\"  {name}: {value:.4f}\")\n",
    "\n",
    "# Calculate R2 Score separately using sklearn\n",
    "print(\"\\nCalculating R2 Score...\")\n",
    "y_pred_nn = nn_model.predict(X_test_processed, batch_size=BATCH_SIZE).flatten() # Flatten prediction output\n",
    "nn_r2 = r2_score(y_test, y_pred_nn)\n",
    "print(f\"  R2 Score: {nn_r2:.4f}\")\n",
    "print(f\"  Accuracy: {nn_r2 * 100:.4f}\")\n",
    "\n",
    "\n",
    "# --- Optional: Plot Training History ---\n",
    "def plot_history(history):\n",
    "    hist = pd.DataFrame(history.history)\n",
    "    hist['epoch'] = history.epoch\n",
    "\n",
    "    plt.figure(figsize=(12, 5))\n",
    "\n",
    "    plt.subplot(1, 2, 1)\n",
    "    plt.xlabel('Epoch')\n",
    "    plt.ylabel('Mean Abs Error [Price]')\n",
    "    plt.plot(hist['epoch'], hist['mean_absolute_error'], label='Train Error')\n",
    "    plt.plot(hist['epoch'], hist['val_mean_absolute_error'], label='Val Error')\n",
    "    plt.ylim(bottom=0) # Adjust ylim if needed\n",
    "    plt.legend()\n",
    "\n",
    "    plt.subplot(1, 2, 2)\n",
    "    plt.xlabel('Epoch')\n",
    "    plt.ylabel('Root Mean Squared Error [Price]')\n",
    "    plt.plot(hist['epoch'], hist['root_mean_squared_error'], label='Train RMSE')\n",
    "    plt.plot(hist['epoch'], hist['val_root_mean_squared_error'], label='Val RMSE')\n",
    "    plt.ylim(bottom=0) # Adjust ylim if needed\n",
    "    plt.legend()\n",
    "    plt.tight_layout()\n",
    "    plt.show()\n",
    "\n",
    "print(\"\\nPlotting Training History (MAE & RMSE)...\")\n",
    "plot_history(history)\n",
    "\n",
    "\n",
    "print(\"\\n--- Neural Network Analysis Complete ---\")\n",
    "\n",
    "\n",
    "print(\"\\n--- ALL MODEL ANALYSES COMPLETE ---\")"
   ]
  }
 ],
 "metadata": {
  "kaggle": {
   "accelerator": "nvidiaTeslaT4",
   "dataSources": [
    {
     "datasetId": 885427,
     "sourceId": 1504314,
     "sourceType": "datasetVersion"
    }
   ],
   "dockerImageVersionId": 30918,
   "isGpuEnabled": true,
   "isInternetEnabled": true,
   "language": "python",
   "sourceType": "notebook"
  },
  "kernelspec": {
   "display_name": "Python 3",
   "language": "python",
   "name": "python3"
  },
  "language_info": {
   "codemirror_mode": {
    "name": "ipython",
    "version": 3
   },
   "file_extension": ".py",
   "mimetype": "text/x-python",
   "name": "python",
   "nbconvert_exporter": "python",
   "pygments_lexer": "ipython3",
   "version": "3.10.12"
  },
  "papermill": {
   "default_parameters": {},
   "duration": 1812.40533,
   "end_time": "2025-04-11T19:40:29.056791",
   "environment_variables": {},
   "exception": null,
   "input_path": "__notebook__.ipynb",
   "output_path": "__notebook__.ipynb",
   "parameters": {},
   "start_time": "2025-04-11T19:10:16.651461",
   "version": "2.6.0"
  }
 },
 "nbformat": 4,
 "nbformat_minor": 5
}
